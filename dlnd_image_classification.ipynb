{
 "cells": [
  {
   "cell_type": "markdown",
   "metadata": {
    "collapsed": true,
    "deletable": true,
    "editable": true
   },
   "source": [
    "# Image Classification\n",
    "In this project, you'll classify images from the [CIFAR-10 dataset](https://www.cs.toronto.edu/~kriz/cifar.html).  The dataset consists of airplanes, dogs, cats, and other objects. You'll preprocess the images, then train a convolutional neural network on all the samples. The images need to be normalized and the labels need to be one-hot encoded.  You'll get to apply what you learned and build a convolutional, max pooling, dropout, and fully connected layers.  At the end, you'll get to see your neural network's predictions on the sample images.\n",
    "## Get the Data\n",
    "Run the following cell to download the [CIFAR-10 dataset for python](https://www.cs.toronto.edu/~kriz/cifar-10-python.tar.gz)."
   ]
  },
  {
   "cell_type": "code",
   "execution_count": 1,
   "metadata": {
    "collapsed": false,
    "deletable": true,
    "editable": true
   },
   "outputs": [
    {
     "name": "stderr",
     "output_type": "stream",
     "text": [
      "CIFAR-10 Dataset: 171MB [00:38, 4.44MB/s]                              \n"
     ]
    },
    {
     "name": "stdout",
     "output_type": "stream",
     "text": [
      "All files found!\n"
     ]
    }
   ],
   "source": [
    "\"\"\"\n",
    "DON'T MODIFY ANYTHING IN THIS CELL THAT IS BELOW THIS LINE\n",
    "\"\"\"\n",
    "from urllib.request import urlretrieve\n",
    "from os.path import isfile, isdir\n",
    "from tqdm import tqdm\n",
    "import problem_unittests as tests\n",
    "import tarfile\n",
    "\n",
    "cifar10_dataset_folder_path = 'cifar-10-batches-py'\n",
    "\n",
    "class DLProgress(tqdm):\n",
    "    last_block = 0\n",
    "\n",
    "    def hook(self, block_num=1, block_size=1, total_size=None):\n",
    "        self.total = total_size\n",
    "        self.update((block_num - self.last_block) * block_size)\n",
    "        self.last_block = block_num\n",
    "\n",
    "if not isfile('cifar-10-python.tar.gz'):\n",
    "    with DLProgress(unit='B', unit_scale=True, miniters=1, desc='CIFAR-10 Dataset') as pbar:\n",
    "        urlretrieve(\n",
    "            'https://www.cs.toronto.edu/~kriz/cifar-10-python.tar.gz',\n",
    "            'cifar-10-python.tar.gz',\n",
    "            pbar.hook)\n",
    "\n",
    "if not isdir(cifar10_dataset_folder_path):\n",
    "    with tarfile.open('cifar-10-python.tar.gz') as tar:\n",
    "        tar.extractall()\n",
    "        tar.close()\n",
    "\n",
    "\n",
    "tests.test_folder_path(cifar10_dataset_folder_path)"
   ]
  },
  {
   "cell_type": "markdown",
   "metadata": {
    "deletable": true,
    "editable": true
   },
   "source": [
    "## Explore the Data\n",
    "The dataset is broken into batches to prevent your machine from running out of memory.  The CIFAR-10 dataset consists of 5 batches, named `data_batch_1`, `data_batch_2`, etc.. Each batch contains the labels and images that are one of the following:\n",
    "* airplane\n",
    "* automobile\n",
    "* bird\n",
    "* cat\n",
    "* deer\n",
    "* dog\n",
    "* frog\n",
    "* horse\n",
    "* ship\n",
    "* truck\n",
    "\n",
    "Understanding a dataset is part of making predictions on the data.  Play around with the code cell below by changing the `batch_id` and `sample_id`. The `batch_id` is the id for a batch (1-5). The `sample_id` is the id for a image and label pair in the batch.\n",
    "\n",
    "Ask yourself \"What are all possible labels?\", \"What is the range of values for the image data?\", \"Are the labels in order or random?\".  Answers to questions like these will help you preprocess the data and end up with better predictions."
   ]
  },
  {
   "cell_type": "code",
   "execution_count": 4,
   "metadata": {
    "collapsed": false,
    "deletable": true,
    "editable": true
   },
   "outputs": [
    {
     "name": "stdout",
     "output_type": "stream",
     "text": [
      "\n",
      "Stats of batch 3:\n",
      "Samples: 10000\n",
      "Label Counts: {0: 994, 1: 1042, 2: 965, 3: 997, 4: 990, 5: 1029, 6: 978, 7: 1015, 8: 961, 9: 1029}\n",
      "First 20 Labels: [8, 5, 0, 6, 9, 2, 8, 3, 6, 2, 7, 4, 6, 9, 0, 0, 7, 3, 7, 2]\n",
      "\n",
      "Example of Image 632:\n",
      "Image - Min Value: 14 Max Value: 250\n",
      "Image - Shape: (32, 32, 3)\n",
      "Label - Label Id: 3 Name: cat\n"
     ]
    },
    {
     "data": {
      "image/png": "[encoded data removed]",
      "text/plain": [
       "<matplotlib.figure.Figure at 0x7f895d0e87b8>"
      ]
     },
     "metadata": {
      "image/png": {
       "height": 250,
       "width": 253
      }
     },
     "output_type": "display_data"
    }
   ],
   "source": [
    "%matplotlib inline\n",
    "%config InlineBackend.figure_format = 'retina'\n",
    "\n",
    "import helper\n",
    "import numpy as np\n",
    "\n",
    "# Explore the dataset\n",
    "batch_id = 3\n",
    "sample_id = 632\n",
    "helper.display_stats(cifar10_dataset_folder_path, batch_id, sample_id)"
   ]
  },
  {
   "cell_type": "markdown",
   "metadata": {
    "deletable": true,
    "editable": true
   },
   "source": [
    "## Implement Preprocess Functions\n",
    "### Normalize\n",
    "In the cell below, implement the `normalize` function to take in image data, `x`, and return it as a normalized Numpy array. The values should be in the range of 0 to 1, inclusive.  The return object should be the same shape as `x`."
   ]
  },
  {
   "cell_type": "code",
   "execution_count": 5,
   "metadata": {
    "collapsed": false,
    "deletable": true,
    "editable": true
   },
   "outputs": [
    {
     "name": "stdout",
     "output_type": "stream",
     "text": [
      "Tests Passed\n"
     ]
    }
   ],
   "source": [
    "def normalize(x):\n",
    "    \"\"\"\n",
    "    Normalize a list of sample image data in the range of 0 to 1\n",
    "    : x: List of image data.  The image shape is (32, 32, 3)\n",
    "    : return: Numpy array of normalize data\n",
    "    \"\"\"\n",
    "    arr=np.array(x)\n",
    "    return arr/255.0\n",
    "\n",
    "\n",
    "\"\"\"\n",
    "DON'T MODIFY ANYTHING IN THIS CELL THAT IS BELOW THIS LINE\n",
    "\"\"\"\n",
    "tests.test_normalize(normalize)"
   ]
  },
  {
   "cell_type": "markdown",
   "metadata": {
    "deletable": true,
    "editable": true
   },
   "source": [
    "### One-hot encode\n",
    "Just like the previous code cell, you'll be implementing a function for preprocessing.  This time, you'll implement the `one_hot_encode` function. The input, `x`, are a list of labels.  Implement the function to return the list of labels as One-Hot encoded Numpy array.  The possible values for labels are 0 to 9. The one-hot encoding function should return the same encoding for each value between each call to `one_hot_encode`.  Make sure to save the map of encodings outside the function.\n",
    "\n",
    "Hint: Don't reinvent the wheel."
   ]
  },
  {
   "cell_type": "code",
   "execution_count": 6,
   "metadata": {
    "collapsed": false,
    "deletable": true,
    "editable": true
   },
   "outputs": [
    {
     "name": "stdout",
     "output_type": "stream",
     "text": [
      "Tests Passed\n"
     ]
    }
   ],
   "source": [
    "def one_hot_encode(x):\n",
    "    \"\"\"\n",
    "    One hot encode a list of sample labels. Return a one-hot encoded vector for each label.\n",
    "    : x: List of sample Labels\n",
    "    : return: Numpy array of one-hot encoded labels\n",
    "    \"\"\"\n",
    "    n=len(x)\n",
    "    a=np.array(x)\n",
    "    onehot=np.zeros((n,10))\n",
    "    onehot[np.arange(n),a]=1\n",
    "    return onehot\n",
    "\n",
    "\n",
    "\"\"\"\n",
    "DON'T MODIFY ANYTHING IN THIS CELL THAT IS BELOW THIS LINE\n",
    "\"\"\"\n",
    "tests.test_one_hot_encode(one_hot_encode)"
   ]
  },
  {
   "cell_type": "markdown",
   "metadata": {
    "deletable": true,
    "editable": true
   },
   "source": [
    "### Randomize Data\n",
    "As you saw from exploring the data above, the order of the samples are randomized.  It doesn't hurt to randomize it again, but you don't need to for this dataset."
   ]
  },
  {
   "cell_type": "markdown",
   "metadata": {
    "deletable": true,
    "editable": true
   },
   "source": [
    "## Preprocess all the data and save it\n",
    "Running the code cell below will preprocess all the CIFAR-10 data and save it to file. The code below also uses 10% of the training data for validation."
   ]
  },
  {
   "cell_type": "code",
   "execution_count": 7,
   "metadata": {
    "collapsed": false,
    "deletable": true,
    "editable": true
   },
   "outputs": [],
   "source": [
    "\"\"\"\n",
    "DON'T MODIFY ANYTHING IN THIS CELL\n",
    "\"\"\"\n",
    "# Preprocess Training, Validation, and Testing Data\n",
    "helper.preprocess_and_save_data(cifar10_dataset_folder_path, normalize, one_hot_encode)"
   ]
  },
  {
   "cell_type": "markdown",
   "metadata": {
    "deletable": true,
    "editable": true
   },
   "source": [
    "# Check Point\n",
    "This is your first checkpoint.  If you ever decide to come back to this notebook or have to restart the notebook, you can start from here.  The preprocessed data has been saved to disk."
   ]
  },
  {
   "cell_type": "code",
   "execution_count": 8,
   "metadata": {
    "collapsed": true,
    "deletable": true,
    "editable": true
   },
   "outputs": [],
   "source": [
    "\"\"\"\n",
    "DON'T MODIFY ANYTHING IN THIS CELL\n",
    "\"\"\"\n",
    "import pickle\n",
    "import problem_unittests as tests\n",
    "import helper\n",
    "\n",
    "# Load the Preprocessed Validation data\n",
    "valid_features, valid_labels = pickle.load(open('preprocess_validation.p', mode='rb'))"
   ]
  },
  {
   "cell_type": "markdown",
   "metadata": {
    "deletable": true,
    "editable": true
   },
   "source": [
    "## Build the network\n",
    "For the neural network, you'll build each layer into a function.  Most of the code you've seen has been outside of functions. To test your code more thoroughly, we require that you put each layer in a function.  This allows us to give you better feedback and test for simple mistakes using our unittests before you submit your project.\n",
    "\n",
    ">**Note:** If you're finding it hard to dedicate enough time for this course each week, we've provided a small shortcut to this part of the project. In the next couple of problems, you'll have the option to use classes from the [TensorFlow Layers](https://www.tensorflow.org/api_docs/python/tf/layers) or [TensorFlow Layers (contrib)](https://www.tensorflow.org/api_guides/python/contrib.layers) packages to build each layer, except the layers you build in the \"Convolutional and Max Pooling Layer\" section.  TF Layers is similar to Keras's and TFLearn's abstraction to layers, so it's easy to pickup.\n",
    "\n",
    ">However, if you would like to get the most out of this course, try to solve all the problems _without_ using anything from the TF Layers packages. You **can** still use classes from other packages that happen to have the same name as ones you find in TF Layers! For example, instead of using the TF Layers version of the `conv2d` class, [tf.layers.conv2d](https://www.tensorflow.org/api_docs/python/tf/layers/conv2d), you would want to use the TF Neural Network version of `conv2d`, [tf.nn.conv2d](https://www.tensorflow.org/api_docs/python/tf/nn/conv2d). \n",
    "\n",
    "Let's begin!\n",
    "\n",
    "### Input\n",
    "The neural network needs to read the image data, one-hot encoded labels, and dropout keep probability. Implement the following functions\n",
    "* Implement `neural_net_image_input`\n",
    " * Return a [TF Placeholder](https://www.tensorflow.org/api_docs/python/tf/placeholder)\n",
    " * Set the shape using `image_shape` with batch size set to `None`.\n",
    " * Name the TensorFlow placeholder \"x\" using the TensorFlow `name` parameter in the [TF Placeholder](https://www.tensorflow.org/api_docs/python/tf/placeholder).\n",
    "* Implement `neural_net_label_input`\n",
    " * Return a [TF Placeholder](https://www.tensorflow.org/api_docs/python/tf/placeholder)\n",
    " * Set the shape using `n_classes` with batch size set to `None`.\n",
    " * Name the TensorFlow placeholder \"y\" using the TensorFlow `name` parameter in the [TF Placeholder](https://www.tensorflow.org/api_docs/python/tf/placeholder).\n",
    "* Implement `neural_net_keep_prob_input`\n",
    " * Return a [TF Placeholder](https://www.tensorflow.org/api_docs/python/tf/placeholder) for dropout keep probability.\n",
    " * Name the TensorFlow placeholder \"keep_prob\" using the TensorFlow `name` parameter in the [TF Placeholder](https://www.tensorflow.org/api_docs/python/tf/placeholder).\n",
    "\n",
    "These names will be used at the end of the project to load your saved model.\n",
    "\n",
    "Note: `None` for shapes in TensorFlow allow for a dynamic size."
   ]
  },
  {
   "cell_type": "code",
   "execution_count": 104,
   "metadata": {
    "collapsed": false,
    "deletable": true,
    "editable": true
   },
   "outputs": [
    {
     "name": "stdout",
     "output_type": "stream",
     "text": [
      "Image Input Tests Passed.\n",
      "Label Input Tests Passed.\n",
      "Keep Prob Tests Passed.\n"
     ]
    }
   ],
   "source": [
    "import tensorflow as tf\n",
    "\n",
    "def neural_net_image_input(image_shape):\n",
    "    \"\"\"\n",
    "    Return a Tensor for a batch of image input\n",
    "    : image_shape: Shape of the images\n",
    "    : return: Tensor for image input.\n",
    "    \"\"\"\n",
    "    # TODO: Implement Function\n",
    "    theshape=(None,)+tuple(image_shape)\n",
    "    return tf.placeholder(tf.float32,shape=theshape,name='x')\n",
    "\n",
    "\n",
    "def neural_net_label_input(n_classes):\n",
    "    \"\"\"\n",
    "    Return a Tensor for a batch of label input\n",
    "    : n_classes: Number of classes\n",
    "    : return: Tensor for label input.\n",
    "    \"\"\"\n",
    "    # TODO: Implement Function\n",
    "    return tf.placeholder(tf.float32,shape=(None,n_classes),name='y')\n",
    "\n",
    "\n",
    "def neural_net_keep_prob_input():\n",
    "    \"\"\"\n",
    "    Return a Tensor for keep probability\n",
    "    : return: Tensor for keep probability.\n",
    "    \"\"\"\n",
    "    # TODO: Implement Function\n",
    "    return tf.placeholder(tf.float32,name='keep_prob')\n",
    "\n",
    "\n",
    "\"\"\"\n",
    "DON'T MODIFY ANYTHING IN THIS CELL THAT IS BELOW THIS LINE\n",
    "\"\"\"\n",
    "tf.reset_default_graph()\n",
    "tests.test_nn_image_inputs(neural_net_image_input)\n",
    "tests.test_nn_label_inputs(neural_net_label_input)\n",
    "tests.test_nn_keep_prob_inputs(neural_net_keep_prob_input)"
   ]
  },
  {
   "cell_type": "markdown",
   "metadata": {
    "deletable": true,
    "editable": true
   },
   "source": [
    "### Convolution and Max Pooling Layer\n",
    "Convolution layers have a lot of success with images. For this code cell, you should implement the function `conv2d_maxpool` to apply convolution then max pooling:\n",
    "* Create the weight and bias using `conv_ksize`, `conv_num_outputs` and the shape of `x_tensor`.\n",
    "* Apply a convolution to `x_tensor` using weight and `conv_strides`.\n",
    " * We recommend you use same padding, but you're welcome to use any padding.\n",
    "* Add bias\n",
    "* Add a nonlinear activation to the convolution.\n",
    "* Apply Max Pooling using `pool_ksize` and `pool_strides`.\n",
    " * We recommend you use same padding, but you're welcome to use any padding.\n",
    "\n",
    "**Note:** You **can't** use [TensorFlow Layers](https://www.tensorflow.org/api_docs/python/tf/layers) or [TensorFlow Layers (contrib)](https://www.tensorflow.org/api_guides/python/contrib.layers) for **this** layer, but you can still use TensorFlow's [Neural Network](https://www.tensorflow.org/api_docs/python/tf/nn) package. You may still use the shortcut option for all the **other** layers."
   ]
  },
  {
   "cell_type": "code",
   "execution_count": 106,
   "metadata": {
    "collapsed": false,
    "deletable": true,
    "editable": true
   },
   "outputs": [
    {
     "name": "stdout",
     "output_type": "stream",
     "text": [
      "Tests Passed\n"
     ]
    }
   ],
   "source": [
    "def conv2d_maxpool(x_tensor, conv_num_outputs, conv_ksize, conv_strides, pool_ksize, pool_strides):\n",
    "    \"\"\"\n",
    "    Apply convolution then max pooling to x_tensor\n",
    "    :param x_tensor: TensorFlow Tensor\n",
    "    :param conv_num_outputs: Number of outputs for the convolutional layer\n",
    "    :param conv_ksize: kernal size 2-D Tuple for the convolutional layer\n",
    "    :param conv_strides: Stride 2-D Tuple for convolution\n",
    "    :param pool_ksize: kernal size 2-D Tuple for pool\n",
    "    :param pool_strides: Stride 2-D Tuple for pool\n",
    "    : return: A tensor that represents convolution and max pooling of x_tensor\n",
    "    \"\"\"\n",
    "\n",
    "    #\n",
    "    # while x_tensor.shape would give us the shape, the items in this are tf Dimension objects,\n",
    "    # and that makes subsequent code barf. To get the dimensions as regular ints, do this instead:\n",
    "    #\n",
    "    xshape=x_tensor.get_shape().as_list()\n",
    "    \n",
    "    #\n",
    "    # params for the convolution layer\n",
    "    #\n",
    "    color_channels=xshape[-1]\n",
    "    filter_size_height,filter_size_width=conv_ksize\n",
    "    hstride,wstride=conv_strides\n",
    "    thestrides=[1,hstride,wstride,1]\n",
    "    \n",
    "    #\n",
    "    # params for the maxpool layer\n",
    "    #\n",
    "    pool_size_height,pool_size_width=pool_ksize\n",
    "    theksize=[1,pool_size_height,pool_size_width,1]\n",
    "    hpoolstride,wpoolstride=pool_strides\n",
    "    thepoolstrides=[1,hpoolstride,wpoolstride,1]\n",
    "    \n",
    "    #\n",
    "    # create the weights and bias\n",
    "    #\n",
    "    wspecs = tf.truncated_normal([filter_size_height, filter_size_width, color_channels, conv_num_outputs],\n",
    "                                mean=0.0,stddev=0.01,dtype=tf.float32)\n",
    "    weight = tf.Variable(wspecs)\n",
    "    bias = tf.Variable(tf.zeros(conv_num_outputs))\n",
    "\n",
    "    #\n",
    "    # convolution layer with bias and relu activation\n",
    "    #\n",
    "    conv_layer = tf.nn.conv2d(x_tensor, weight, strides=thestrides, padding='SAME')\n",
    "    conv_layer = tf.nn.bias_add(conv_layer, bias)\n",
    "    conv_layer = tf.nn.relu(conv_layer)\n",
    "\n",
    "    #\n",
    "    # add in max pooling\n",
    "    #\n",
    "    conv_layer = tf.nn.max_pool(conv_layer, ksize=theksize,strides=thepoolstrides,padding='SAME')\n",
    "    \n",
    "    return conv_layer \n",
    "\n",
    "\n",
    "\"\"\"\n",
    "DON'T MODIFY ANYTHING IN THIS CELL THAT IS BELOW THIS LINE\n",
    "\"\"\"\n",
    "tests.test_con_pool(conv2d_maxpool)"
   ]
  },
  {
   "cell_type": "markdown",
   "metadata": {
    "deletable": true,
    "editable": true
   },
   "source": [
    "### Flatten Layer\n",
    "Implement the `flatten` function to change the dimension of `x_tensor` from a 4-D tensor to a 2-D tensor.  The output should be the shape (*Batch Size*, *Flattened Image Size*). Shortcut option: you can use classes from the [TensorFlow Layers](https://www.tensorflow.org/api_docs/python/tf/layers) or [TensorFlow Layers (contrib)](https://www.tensorflow.org/api_guides/python/contrib.layers) packages for this layer. For more of a challenge, only use other TensorFlow packages."
   ]
  },
  {
   "cell_type": "code",
   "execution_count": 107,
   "metadata": {
    "collapsed": false,
    "deletable": true,
    "editable": true
   },
   "outputs": [
    {
     "name": "stdout",
     "output_type": "stream",
     "text": [
      "Tests Passed\n"
     ]
    }
   ],
   "source": [
    "def flatten(x_tensor):\n",
    "    \"\"\"\n",
    "    Flatten x_tensor to (Batch Size, Flattened Image Size)\n",
    "    : x_tensor: A tensor of size (Batch Size, ...), where ... are the image dimensions.\n",
    "    : return: A tensor of size (Batch Size, Flattened Image Size).\n",
    "    \"\"\"\n",
    "    xshape=x_tensor.get_shape().as_list()\n",
    "    n_batch,nheight,nwidth,ncolor=xshape\n",
    "    n_input=nheight*nwidth*ncolor\n",
    "\n",
    "    x_flat = tf.reshape(x_tensor, [-1, n_input])\n",
    "    return x_flat\n",
    "\n",
    "\n",
    "\"\"\"\n",
    "DON'T MODIFY ANYTHING IN THIS CELL THAT IS BELOW THIS LINE\n",
    "\"\"\"\n",
    "tests.test_flatten(flatten)"
   ]
  },
  {
   "cell_type": "markdown",
   "metadata": {
    "deletable": true,
    "editable": true
   },
   "source": [
    "### Fully-Connected Layer\n",
    "Implement the `fully_conn` function to apply a fully connected layer to `x_tensor` with the shape (*Batch Size*, *num_outputs*). Shortcut option: you can use classes from the [TensorFlow Layers](https://www.tensorflow.org/api_docs/python/tf/layers) or [TensorFlow Layers (contrib)](https://www.tensorflow.org/api_guides/python/contrib.layers) packages for this layer. For more of a challenge, only use other TensorFlow packages."
   ]
  },
  {
   "cell_type": "code",
   "execution_count": 108,
   "metadata": {
    "collapsed": false,
    "deletable": true,
    "editable": true
   },
   "outputs": [
    {
     "name": "stdout",
     "output_type": "stream",
     "text": [
      "Tests Passed\n"
     ]
    }
   ],
   "source": [
    "def fully_conn(x_tensor, num_outputs):\n",
    "    \"\"\"\n",
    "    Apply a fully connected layer to x_tensor using weight and bias\n",
    "    : x_tensor: A 2-D tensor where the first dimension is batch size.\n",
    "    : num_outputs: The number of output that the new tensor should be.\n",
    "    : return: A 2-D tensor where the second dimension is num_outputs.\n",
    "    \"\"\"\n",
    "    #\n",
    "    # The use of x_tensor for the name here is misleading - it is really the already flattened x_flat\n",
    "    #\n",
    "    x_flat=x_tensor\n",
    "    xshape=x_flat.get_shape().as_list()\n",
    "    n_batch,n_input=xshape\n",
    "\n",
    "    # Store layers weight & bias\n",
    "    weights = tf.Variable(tf.random_normal([n_input, num_outputs],mean=0.0,stddev=0.01,dtype=tf.float32))\n",
    "    biases = tf.Variable(tf.random_normal([num_outputs],mean=0.0,stddev=0.01,dtype=tf.float32))\n",
    "    \n",
    "    layer = tf.add(tf.matmul(x_flat, weights),biases)\n",
    "    layer = tf.nn.relu(layer)\n",
    "\n",
    "    return layer\n",
    "\n",
    "\n",
    "\"\"\"\n",
    "DON'T MODIFY ANYTHING IN THIS CELL THAT IS BELOW THIS LINE\n",
    "\"\"\"\n",
    "tests.test_fully_conn(fully_conn)"
   ]
  },
  {
   "cell_type": "markdown",
   "metadata": {
    "deletable": true,
    "editable": true
   },
   "source": [
    "### Output Layer\n",
    "Implement the `output` function to apply a fully connected layer to `x_tensor` with the shape (*Batch Size*, *num_outputs*). Shortcut option: you can use classes from the [TensorFlow Layers](https://www.tensorflow.org/api_docs/python/tf/layers) or [TensorFlow Layers (contrib)](https://www.tensorflow.org/api_guides/python/contrib.layers) packages for this layer. For more of a challenge, only use other TensorFlow packages.\n",
    "\n",
    "**Note:** Activation, softmax, or cross entropy should **not** be applied to this."
   ]
  },
  {
   "cell_type": "code",
   "execution_count": 109,
   "metadata": {
    "collapsed": false,
    "deletable": true,
    "editable": true
   },
   "outputs": [
    {
     "name": "stdout",
     "output_type": "stream",
     "text": [
      "Tests Passed\n"
     ]
    }
   ],
   "source": [
    "def output(x_tensor, num_outputs):\n",
    "    \"\"\"\n",
    "    Apply a output layer to x_tensor using weight and bias\n",
    "    : x_tensor: A 2-D tensor where the first dimension is batch size.\n",
    "    : num_outputs: The number of output that the new tensor should be.\n",
    "    : return: A 2-D tensor where the second dimension is num_outputs.\n",
    "    \"\"\"\n",
    "    #\n",
    "    # The use of x_tensor for the name here is misleading - it is really the already flattened x_flat\n",
    "    #\n",
    "    x_flat=x_tensor\n",
    "    xshape=x_flat.get_shape().as_list()\n",
    "    n_batch,n_input=xshape\n",
    "\n",
    "    # Store layers weight & bias\n",
    "    weights = tf.Variable(tf.random_normal([n_input, num_outputs],mean=0.0,stddev=0.01,dtype=tf.float32))\n",
    "    biases = tf.Variable(tf.random_normal([num_outputs],mean=0.0,stddev=0.01,dtype=tf.float32))\n",
    "    \n",
    "    layer = tf.add(tf.matmul(x_flat, weights),biases)\n",
    "\n",
    "    return layer\n",
    "\n",
    "\n",
    "\"\"\"\n",
    "DON'T MODIFY ANYTHING IN THIS CELL THAT IS BELOW THIS LINE\n",
    "\"\"\"\n",
    "tests.test_output(output)"
   ]
  },
  {
   "cell_type": "markdown",
   "metadata": {
    "deletable": true,
    "editable": true
   },
   "source": [
    "### Create Convolutional Model\n",
    "Implement the function `conv_net` to create a convolutional neural network model. The function takes in a batch of images, `x`, and outputs logits.  Use the layers you created above to create this model:\n",
    "\n",
    "* Apply 1, 2, or 3 Convolution and Max Pool layers\n",
    "* Apply a Flatten Layer\n",
    "* Apply 1, 2, or 3 Fully Connected Layers\n",
    "* Apply an Output Layer\n",
    "* Return the output\n",
    "* Apply [TensorFlow's Dropout](https://www.tensorflow.org/api_docs/python/tf/nn/dropout) to one or more layers in the model using `keep_prob`. "
   ]
  },
  {
   "cell_type": "code",
   "execution_count": 134,
   "metadata": {
    "collapsed": false,
    "deletable": true,
    "editable": true
   },
   "outputs": [
    {
     "name": "stdout",
     "output_type": "stream",
     "text": [
      "Creating layer LAYER 0\n",
      "Creating layer LAYER 1\n",
      "Creating layer LAYER 2\n",
      "Creating layer LAYER 3\n",
      "Creating layer LAYER 4\n",
      "Creating layer LAYER 5\n",
      "Creating layer OUTPUT LAYER\n",
      "Finished creating all layers!\n",
      "Creating layer LAYER 0\n",
      "Creating layer LAYER 1\n",
      "Creating layer LAYER 2\n",
      "Creating layer LAYER 3\n",
      "Creating layer LAYER 4\n",
      "Creating layer LAYER 5\n",
      "Creating layer OUTPUT LAYER\n",
      "Finished creating all layers!\n",
      "Neural Network Built!\n"
     ]
    }
   ],
   "source": [
    "def conv_net(x, keep_prob):\n",
    "    \"\"\"\n",
    "    Create a convolutional neural network model\n",
    "    : x: Placeholder tensor that holds image data.\n",
    "    : keep_prob: Placeholder tensor that hold dropout keep probability.\n",
    "    : return: Tensor that represents logits\n",
    "    \"\"\"\n",
    "    # TODO: Apply 1, 2, or 3 Convolution and Max Pool layers\n",
    "    #    Play around with different number of outputs, kernel size and stride\n",
    "    # Function Definition from Above:\n",
    "    #    conv2d_maxpool(x_tensor, conv_num_outputs, conv_ksize, conv_strides, pool_ksize, pool_strides)\n",
    "    \n",
    "    layer_settings=[]\n",
    "    layers=[]\n",
    "    player=x\n",
    "    \n",
    "    #\n",
    "    # Add 3 convpool layers\n",
    "    #\n",
    "    layer_settings.append({\n",
    "        \"layer_name\": \"LAYER 0\",\n",
    "        \"layer_type\": \"convpool\",\n",
    "        \"dropout\": False,\n",
    "        \"num_outputs\": 48,\n",
    "        \"conv_ksize\": (4,4),\n",
    "        \"conv_strides\": (1,1),\n",
    "        \"pool_ksize\": (2,2),\n",
    "        \"pool_strides\": (2,2),\n",
    "    })  \n",
    "    layer_settings.append({\n",
    "        \"layer_name\": \"LAYER 1\",\n",
    "        \"layer_type\": \"convpool\",\n",
    "        \"dropout\": True,\n",
    "        \"num_outputs\": 96,\n",
    "        \"conv_ksize\": (4,4),\n",
    "        \"conv_strides\": (1,1),\n",
    "        \"pool_ksize\": (2,2),\n",
    "        \"pool_strides\": (2,2),\n",
    "    })   \n",
    "    layer_settings.append({\n",
    "        \"layer_name\": \"LAYER 2\",\n",
    "        \"layer_type\": \"convpool\",\n",
    "        \"dropout\": False,\n",
    "        \"num_outputs\": 192,\n",
    "        \"conv_ksize\": (4,4),\n",
    "        \"conv_strides\": (1,1),\n",
    "        \"pool_ksize\": (2,2),\n",
    "        \"pool_strides\": (2,2),\n",
    "    }) \n",
    "    #\n",
    "    # add flatten layer\n",
    "    #\n",
    "    layer_settings.append({\n",
    "        \"layer_name\": \"LAYER 3\",\n",
    "        \"layer_type\": \"flatten\",\n",
    "        \"dropout\": False,\n",
    "    })   \n",
    "    #\n",
    "    # Add 2 fullconn layers\n",
    "    #\n",
    "    layer_settings.append({\n",
    "        \"layer_name\": \"LAYER 4\",\n",
    "        \"layer_type\": \"fullconn\",\n",
    "        \"dropout\": True,\n",
    "        \"num_outputs\": 1024,\n",
    "    })   \n",
    "    layer_settings.append({\n",
    "        \"layer_name\": \"LAYER 5\",\n",
    "        \"layer_type\": \"fullconn\",\n",
    "        \"dropout\": True,\n",
    "        \"num_outputs\": 512,\n",
    "    })   \n",
    "    layer_settings.append({\n",
    "        \"layer_name\": \"OUTPUT LAYER\",\n",
    "        \"layer_type\": \"output\",\n",
    "        \"dropout\": False,\n",
    "        \"num_outputs\": 10,\n",
    "    })  \n",
    "    for settings in layer_settings:\n",
    "        layer_name=settings['layer_name']\n",
    "        print(\"Creating layer %s\" % layer_name)\n",
    "        layer_type=settings['layer_type']\n",
    "        if layer_type=='convpool':\n",
    "            layer=conv2d_maxpool(player, settings['num_outputs'], settings['conv_ksize'], \n",
    "                                 settings['conv_strides'], settings['pool_ksize'], settings['pool_strides'])\n",
    "        elif layer_type=='flatten':\n",
    "            layer=flatten(player)\n",
    "        elif layer_type=='fullconn':\n",
    "            layer=fully_conn(player, settings['num_outputs'])\n",
    "        elif layer_type=='output':\n",
    "            layer=output(player, settings['num_outputs'])\n",
    "            \n",
    "        #\n",
    "        # add dropout to any layer that requests it\n",
    "        #\n",
    "        if settings['dropout']:\n",
    "            layer = tf.nn.dropout(player, keep_prob)\n",
    "                \n",
    "            layers.append(layer)\n",
    "        #\n",
    "        # next layer input is output from current layer\n",
    "        #\n",
    "        player=layer\n",
    "        \n",
    "    print(\"Finished creating all layers!\")\n",
    "    #\n",
    "    # logits_out is final layer\n",
    "    #\n",
    "    return layer\n",
    "\n",
    "\n",
    "\"\"\"\n",
    "DON'T MODIFY ANYTHING IN THIS CELL THAT IS BELOW THIS LINE\n",
    "\"\"\"\n",
    "\n",
    "##############################\n",
    "## Build the Neural Network ##\n",
    "##############################\n",
    "\n",
    "# Remove previous weights, bias, inputs, etc..\n",
    "tf.reset_default_graph()\n",
    "\n",
    "# Inputs\n",
    "x = neural_net_image_input((32, 32, 3))\n",
    "y = neural_net_label_input(10)\n",
    "keep_prob = neural_net_keep_prob_input()\n",
    "\n",
    "# Model\n",
    "logits = conv_net(x, keep_prob)\n",
    "\n",
    "# Name logits Tensor, so that is can be loaded from disk after training\n",
    "logits = tf.identity(logits, name='logits')\n",
    "\n",
    "# Loss and Optimizer\n",
    "cost = tf.reduce_mean(tf.nn.softmax_cross_entropy_with_logits(logits=logits, labels=y))\n",
    "optimizer = tf.train.AdamOptimizer().minimize(cost)\n",
    "\n",
    "# Accuracy\n",
    "correct_pred = tf.equal(tf.argmax(logits, 1), tf.argmax(y, 1))\n",
    "accuracy = tf.reduce_mean(tf.cast(correct_pred, tf.float32), name='accuracy')\n",
    "\n",
    "tests.test_conv_net(conv_net)"
   ]
  },
  {
   "cell_type": "markdown",
   "metadata": {
    "deletable": true,
    "editable": true
   },
   "source": [
    "## Train the Neural Network\n",
    "### Single Optimization\n",
    "Implement the function `train_neural_network` to do a single optimization.  The optimization should use `optimizer` to optimize in `session` with a `feed_dict` of the following:\n",
    "* `x` for image input\n",
    "* `y` for labels\n",
    "* `keep_prob` for keep probability for dropout\n",
    "\n",
    "This function will be called for each batch, so `tf.global_variables_initializer()` has already been called.\n",
    "\n",
    "Note: Nothing needs to be returned. This function is only optimizing the neural network."
   ]
  },
  {
   "cell_type": "code",
   "execution_count": 135,
   "metadata": {
    "collapsed": false,
    "deletable": true,
    "editable": true
   },
   "outputs": [
    {
     "name": "stdout",
     "output_type": "stream",
     "text": [
      "Tests Passed\n"
     ]
    }
   ],
   "source": [
    "def train_neural_network(session, optimizer, keep_probability, feature_batch, label_batch):\n",
    "    \"\"\"\n",
    "    Optimize the session on a batch of images and labels\n",
    "    : session: Current TensorFlow session\n",
    "    : optimizer: TensorFlow optimizer function\n",
    "    : keep_probability: keep probability\n",
    "    : feature_batch: Batch of Numpy image data\n",
    "    : label_batch: Batch of Numpy label data\n",
    "    \"\"\"\n",
    "    \n",
    "    # Run optimization op (backprop) and cost op (to get loss value)\n",
    "    session.run(optimizer, feed_dict={x: feature_batch, y: label_batch, keep_prob: keep_probability})\n",
    "\n",
    "\n",
    "\"\"\"\n",
    "DON'T MODIFY ANYTHING IN THIS CELL THAT IS BELOW THIS LINE\n",
    "\"\"\"\n",
    "tests.test_train_nn(train_neural_network)"
   ]
  },
  {
   "cell_type": "markdown",
   "metadata": {
    "deletable": true,
    "editable": true
   },
   "source": [
    "### Show Stats\n",
    "Implement the function `print_stats` to print loss and validation accuracy.  Use the global variables `valid_features` and `valid_labels` to calculate validation accuracy.  Use a keep probability of `1.0` to calculate the loss and validation accuracy."
   ]
  },
  {
   "cell_type": "code",
   "execution_count": 136,
   "metadata": {
    "collapsed": false,
    "deletable": true,
    "editable": true
   },
   "outputs": [],
   "source": [
    "def print_stats(session, feature_batch, label_batch, cost, accuracy):\n",
    "    \"\"\"\n",
    "    Print information about loss and validation accuracy\n",
    "    : session: Current TensorFlow session\n",
    "    : feature_batch: Batch of Numpy image data\n",
    "    : label_batch: Batch of Numpy label data\n",
    "    : cost: TensorFlow cost function\n",
    "    : accuracy: TensorFlow accuracy function\n",
    "    \"\"\"\n",
    "    \n",
    "    # Calculate batch loss and accuracy\n",
    "    theshape=feature_batch.shape\n",
    "    s=str(theshape)\n",
    "    labelshape=label_batch.shape\n",
    "    s=str(labelshape)\n",
    "    #print(\"shape of feature_batch is %s\" % s)\n",
    "          \n",
    "    loss = session.run(cost, feed_dict={x: feature_batch, y: label_batch, keep_prob: 1.})\n",
    "    valid_acc = session.run(accuracy, feed_dict={x: valid_features, y: valid_labels, keep_prob: 1.})\n",
    "    print('Loss: {:>10.4f} Validation Accuracy: {:.6f}'.format(loss,valid_acc))"
   ]
  },
  {
   "cell_type": "markdown",
   "metadata": {
    "deletable": true,
    "editable": true
   },
   "source": [
    "### Hyperparameters\n",
    "Tune the following parameters:\n",
    "* Set `epochs` to the number of iterations until the network stops learning or start overfitting\n",
    "* Set `batch_size` to the highest number that your machine has memory for.  Most people set them to common sizes of memory:\n",
    " * 64\n",
    " * 128\n",
    " * 256\n",
    " * ...\n",
    "* Set `keep_probability` to the probability of keeping a node using dropout"
   ]
  },
  {
   "cell_type": "code",
   "execution_count": 139,
   "metadata": {
    "collapsed": true,
    "deletable": true,
    "editable": true
   },
   "outputs": [],
   "source": [
    "# TODO: Tune Parameters\n",
    "epochs = 100\n",
    "batch_size = 128\n",
    "keep_probability = 0.75\n"
   ]
  },
  {
   "cell_type": "markdown",
   "metadata": {
    "deletable": true,
    "editable": true
   },
   "source": [
    "### Train on a Single CIFAR-10 Batch\n",
    "Instead of training the neural network on all the CIFAR-10 batches of data, let's use a single batch. This should save time while you iterate on the model to get a better accuracy.  Once the final validation accuracy is 50% or greater, run the model on all the data in the next section."
   ]
  },
  {
   "cell_type": "code",
   "execution_count": 140,
   "metadata": {
    "collapsed": false,
    "deletable": true,
    "editable": true
   },
   "outputs": [
    {
     "name": "stdout",
     "output_type": "stream",
     "text": [
      "Checking the Training on a Single Batch...\n"
     ]
    },
    {
     "ename": "KeyboardInterrupt",
     "evalue": "",
     "output_type": "error",
     "traceback": [
      "\u001b[0;31m---------------------------------------------------------------------------\u001b[0m",
      "\u001b[0;31mKeyboardInterrupt\u001b[0m                         Traceback (most recent call last)",
      "\u001b[0;32m<ipython-input-140-0ebd1bbc35ad>\u001b[0m in \u001b[0;36m<module>\u001b[0;34m()\u001b[0m\n\u001b[1;32m     11\u001b[0m         \u001b[0mbatch_i\u001b[0m \u001b[0;34m=\u001b[0m \u001b[0;36m1\u001b[0m\u001b[0;34m\u001b[0m\u001b[0m\n\u001b[1;32m     12\u001b[0m         \u001b[0;32mfor\u001b[0m \u001b[0mbatch_features\u001b[0m\u001b[0;34m,\u001b[0m \u001b[0mbatch_labels\u001b[0m \u001b[0;32min\u001b[0m \u001b[0mhelper\u001b[0m\u001b[0;34m.\u001b[0m\u001b[0mload_preprocess_training_batch\u001b[0m\u001b[0;34m(\u001b[0m\u001b[0mbatch_i\u001b[0m\u001b[0;34m,\u001b[0m \u001b[0mbatch_size\u001b[0m\u001b[0;34m)\u001b[0m\u001b[0;34m:\u001b[0m\u001b[0;34m\u001b[0m\u001b[0m\n\u001b[0;32m---> 13\u001b[0;31m             \u001b[0mtrain_neural_network\u001b[0m\u001b[0;34m(\u001b[0m\u001b[0msess\u001b[0m\u001b[0;34m,\u001b[0m \u001b[0moptimizer\u001b[0m\u001b[0;34m,\u001b[0m \u001b[0mkeep_probability\u001b[0m\u001b[0;34m,\u001b[0m \u001b[0mbatch_features\u001b[0m\u001b[0;34m,\u001b[0m \u001b[0mbatch_labels\u001b[0m\u001b[0;34m)\u001b[0m\u001b[0;34m\u001b[0m\u001b[0m\n\u001b[0m\u001b[1;32m     14\u001b[0m         \u001b[0mprint\u001b[0m\u001b[0;34m(\u001b[0m\u001b[0;34m'Epoch {:>2}, CIFAR-10 Batch {}:  '\u001b[0m\u001b[0;34m.\u001b[0m\u001b[0mformat\u001b[0m\u001b[0;34m(\u001b[0m\u001b[0mepoch\u001b[0m \u001b[0;34m+\u001b[0m \u001b[0;36m1\u001b[0m\u001b[0;34m,\u001b[0m \u001b[0mbatch_i\u001b[0m\u001b[0;34m)\u001b[0m\u001b[0;34m,\u001b[0m \u001b[0mend\u001b[0m\u001b[0;34m=\u001b[0m\u001b[0;34m''\u001b[0m\u001b[0;34m)\u001b[0m\u001b[0;34m\u001b[0m\u001b[0m\n\u001b[1;32m     15\u001b[0m         \u001b[0mprint_stats\u001b[0m\u001b[0;34m(\u001b[0m\u001b[0msess\u001b[0m\u001b[0;34m,\u001b[0m \u001b[0mbatch_features\u001b[0m\u001b[0;34m,\u001b[0m \u001b[0mbatch_labels\u001b[0m\u001b[0;34m,\u001b[0m \u001b[0mcost\u001b[0m\u001b[0;34m,\u001b[0m \u001b[0maccuracy\u001b[0m\u001b[0;34m)\u001b[0m\u001b[0;34m\u001b[0m\u001b[0m\n",
      "\u001b[0;32m<ipython-input-135-dec5c3d7a34f>\u001b[0m in \u001b[0;36mtrain_neural_network\u001b[0;34m(session, optimizer, keep_probability, feature_batch, label_batch)\u001b[0m\n\u001b[1;32m     10\u001b[0m \u001b[0;34m\u001b[0m\u001b[0m\n\u001b[1;32m     11\u001b[0m     \u001b[0;31m# Run optimization op (backprop) and cost op (to get loss value)\u001b[0m\u001b[0;34m\u001b[0m\u001b[0;34m\u001b[0m\u001b[0m\n\u001b[0;32m---> 12\u001b[0;31m     \u001b[0msession\u001b[0m\u001b[0;34m.\u001b[0m\u001b[0mrun\u001b[0m\u001b[0;34m(\u001b[0m\u001b[0moptimizer\u001b[0m\u001b[0;34m,\u001b[0m \u001b[0mfeed_dict\u001b[0m\u001b[0;34m=\u001b[0m\u001b[0;34m{\u001b[0m\u001b[0mx\u001b[0m\u001b[0;34m:\u001b[0m \u001b[0mfeature_batch\u001b[0m\u001b[0;34m,\u001b[0m \u001b[0my\u001b[0m\u001b[0;34m:\u001b[0m \u001b[0mlabel_batch\u001b[0m\u001b[0;34m,\u001b[0m \u001b[0mkeep_prob\u001b[0m\u001b[0;34m:\u001b[0m \u001b[0mkeep_probability\u001b[0m\u001b[0;34m}\u001b[0m\u001b[0;34m)\u001b[0m\u001b[0;34m\u001b[0m\u001b[0m\n\u001b[0m\u001b[1;32m     13\u001b[0m \u001b[0;34m\u001b[0m\u001b[0m\n\u001b[1;32m     14\u001b[0m \u001b[0;34m\u001b[0m\u001b[0m\n",
      "\u001b[0;32m/home/carnd/anaconda3/envs/dl/lib/python3.5/site-packages/tensorflow/python/client/session.py\u001b[0m in \u001b[0;36mrun\u001b[0;34m(self, fetches, feed_dict, options, run_metadata)\u001b[0m\n\u001b[1;32m    765\u001b[0m     \u001b[0;32mtry\u001b[0m\u001b[0;34m:\u001b[0m\u001b[0;34m\u001b[0m\u001b[0m\n\u001b[1;32m    766\u001b[0m       result = self._run(None, fetches, feed_dict, options_ptr,\n\u001b[0;32m--> 767\u001b[0;31m                          run_metadata_ptr)\n\u001b[0m\u001b[1;32m    768\u001b[0m       \u001b[0;32mif\u001b[0m \u001b[0mrun_metadata\u001b[0m\u001b[0;34m:\u001b[0m\u001b[0;34m\u001b[0m\u001b[0m\n\u001b[1;32m    769\u001b[0m         \u001b[0mproto_data\u001b[0m \u001b[0;34m=\u001b[0m \u001b[0mtf_session\u001b[0m\u001b[0;34m.\u001b[0m\u001b[0mTF_GetBuffer\u001b[0m\u001b[0;34m(\u001b[0m\u001b[0mrun_metadata_ptr\u001b[0m\u001b[0;34m)\u001b[0m\u001b[0;34m\u001b[0m\u001b[0m\n",
      "\u001b[0;32m/home/carnd/anaconda3/envs/dl/lib/python3.5/site-packages/tensorflow/python/client/session.py\u001b[0m in \u001b[0;36m_run\u001b[0;34m(self, handle, fetches, feed_dict, options, run_metadata)\u001b[0m\n\u001b[1;32m    963\u001b[0m     \u001b[0;32mif\u001b[0m \u001b[0mfinal_fetches\u001b[0m \u001b[0;32mor\u001b[0m \u001b[0mfinal_targets\u001b[0m\u001b[0;34m:\u001b[0m\u001b[0;34m\u001b[0m\u001b[0m\n\u001b[1;32m    964\u001b[0m       results = self._do_run(handle, final_targets, final_fetches,\n\u001b[0;32m--> 965\u001b[0;31m                              feed_dict_string, options, run_metadata)\n\u001b[0m\u001b[1;32m    966\u001b[0m     \u001b[0;32melse\u001b[0m\u001b[0;34m:\u001b[0m\u001b[0;34m\u001b[0m\u001b[0m\n\u001b[1;32m    967\u001b[0m       \u001b[0mresults\u001b[0m \u001b[0;34m=\u001b[0m \u001b[0;34m[\u001b[0m\u001b[0;34m]\u001b[0m\u001b[0;34m\u001b[0m\u001b[0m\n",
      "\u001b[0;32m/home/carnd/anaconda3/envs/dl/lib/python3.5/site-packages/tensorflow/python/client/session.py\u001b[0m in \u001b[0;36m_do_run\u001b[0;34m(self, handle, target_list, fetch_list, feed_dict, options, run_metadata)\u001b[0m\n\u001b[1;32m   1013\u001b[0m     \u001b[0;32mif\u001b[0m \u001b[0mhandle\u001b[0m \u001b[0;32mis\u001b[0m \u001b[0;32mNone\u001b[0m\u001b[0;34m:\u001b[0m\u001b[0;34m\u001b[0m\u001b[0m\n\u001b[1;32m   1014\u001b[0m       return self._do_call(_run_fn, self._session, feed_dict, fetch_list,\n\u001b[0;32m-> 1015\u001b[0;31m                            target_list, options, run_metadata)\n\u001b[0m\u001b[1;32m   1016\u001b[0m     \u001b[0;32melse\u001b[0m\u001b[0;34m:\u001b[0m\u001b[0;34m\u001b[0m\u001b[0m\n\u001b[1;32m   1017\u001b[0m       return self._do_call(_prun_fn, self._session, handle, feed_dict,\n",
      "\u001b[0;32m/home/carnd/anaconda3/envs/dl/lib/python3.5/site-packages/tensorflow/python/client/session.py\u001b[0m in \u001b[0;36m_do_call\u001b[0;34m(self, fn, *args)\u001b[0m\n\u001b[1;32m   1020\u001b[0m   \u001b[0;32mdef\u001b[0m \u001b[0m_do_call\u001b[0m\u001b[0;34m(\u001b[0m\u001b[0mself\u001b[0m\u001b[0;34m,\u001b[0m \u001b[0mfn\u001b[0m\u001b[0;34m,\u001b[0m \u001b[0;34m*\u001b[0m\u001b[0margs\u001b[0m\u001b[0;34m)\u001b[0m\u001b[0;34m:\u001b[0m\u001b[0;34m\u001b[0m\u001b[0m\n\u001b[1;32m   1021\u001b[0m     \u001b[0;32mtry\u001b[0m\u001b[0;34m:\u001b[0m\u001b[0;34m\u001b[0m\u001b[0m\n\u001b[0;32m-> 1022\u001b[0;31m       \u001b[0;32mreturn\u001b[0m \u001b[0mfn\u001b[0m\u001b[0;34m(\u001b[0m\u001b[0;34m*\u001b[0m\u001b[0margs\u001b[0m\u001b[0;34m)\u001b[0m\u001b[0;34m\u001b[0m\u001b[0m\n\u001b[0m\u001b[1;32m   1023\u001b[0m     \u001b[0;32mexcept\u001b[0m \u001b[0merrors\u001b[0m\u001b[0;34m.\u001b[0m\u001b[0mOpError\u001b[0m \u001b[0;32mas\u001b[0m \u001b[0me\u001b[0m\u001b[0;34m:\u001b[0m\u001b[0;34m\u001b[0m\u001b[0m\n\u001b[1;32m   1024\u001b[0m       \u001b[0mmessage\u001b[0m \u001b[0;34m=\u001b[0m \u001b[0mcompat\u001b[0m\u001b[0;34m.\u001b[0m\u001b[0mas_text\u001b[0m\u001b[0;34m(\u001b[0m\u001b[0me\u001b[0m\u001b[0;34m.\u001b[0m\u001b[0mmessage\u001b[0m\u001b[0;34m)\u001b[0m\u001b[0;34m\u001b[0m\u001b[0m\n",
      "\u001b[0;32m/home/carnd/anaconda3/envs/dl/lib/python3.5/site-packages/tensorflow/python/client/session.py\u001b[0m in \u001b[0;36m_run_fn\u001b[0;34m(session, feed_dict, fetch_list, target_list, options, run_metadata)\u001b[0m\n\u001b[1;32m   1002\u001b[0m         return tf_session.TF_Run(session, options,\n\u001b[1;32m   1003\u001b[0m                                  \u001b[0mfeed_dict\u001b[0m\u001b[0;34m,\u001b[0m \u001b[0mfetch_list\u001b[0m\u001b[0;34m,\u001b[0m \u001b[0mtarget_list\u001b[0m\u001b[0;34m,\u001b[0m\u001b[0;34m\u001b[0m\u001b[0m\n\u001b[0;32m-> 1004\u001b[0;31m                                  status, run_metadata)\n\u001b[0m\u001b[1;32m   1005\u001b[0m \u001b[0;34m\u001b[0m\u001b[0m\n\u001b[1;32m   1006\u001b[0m     \u001b[0;32mdef\u001b[0m \u001b[0m_prun_fn\u001b[0m\u001b[0;34m(\u001b[0m\u001b[0msession\u001b[0m\u001b[0;34m,\u001b[0m \u001b[0mhandle\u001b[0m\u001b[0;34m,\u001b[0m \u001b[0mfeed_dict\u001b[0m\u001b[0;34m,\u001b[0m \u001b[0mfetch_list\u001b[0m\u001b[0;34m)\u001b[0m\u001b[0;34m:\u001b[0m\u001b[0;34m\u001b[0m\u001b[0m\n",
      "\u001b[0;31mKeyboardInterrupt\u001b[0m: "
     ]
    }
   ],
   "source": [
    "\"\"\"\n",
    "DON'T MODIFY ANYTHING IN THIS CELL\n",
    "\"\"\"\n",
    "print('Checking the Training on a Single Batch...')\n",
    "with tf.Session() as sess:\n",
    "    # Initializing the variables\n",
    "    sess.run(tf.global_variables_initializer())\n",
    "    \n",
    "    # Training cycle\n",
    "    for epoch in range(epochs):\n",
    "        batch_i = 1\n",
    "        for batch_features, batch_labels in helper.load_preprocess_training_batch(batch_i, batch_size):\n",
    "            train_neural_network(sess, optimizer, keep_probability, batch_features, batch_labels)\n",
    "        print('Epoch {:>2}, CIFAR-10 Batch {}:  '.format(epoch + 1, batch_i), end='')\n",
    "        print_stats(sess, batch_features, batch_labels, cost, accuracy)"
   ]
  },
  {
   "cell_type": "markdown",
   "metadata": {
    "deletable": true,
    "editable": true
   },
   "source": [
    "### Fully Train the Model\n",
    "Now that you got a good accuracy with a single CIFAR-10 batch, try it with all five batches."
   ]
  },
  {
   "cell_type": "code",
   "execution_count": 141,
   "metadata": {
    "collapsed": false,
    "deletable": true,
    "editable": true
   },
   "outputs": [
    {
     "name": "stdout",
     "output_type": "stream",
     "text": [
      "Training...\n",
      "Epoch  1, CIFAR-10 Batch 1:  Loss:     2.1591 Validation Accuracy: 0.308400\n",
      "Epoch  1, CIFAR-10 Batch 2:  Loss:     1.7839 Validation Accuracy: 0.392400\n",
      "Epoch  1, CIFAR-10 Batch 3:  Loss:     1.4589 Validation Accuracy: 0.415400\n",
      "Epoch  1, CIFAR-10 Batch 4:  Loss:     1.5802 Validation Accuracy: 0.448800\n",
      "Epoch  1, CIFAR-10 Batch 5:  Loss:     1.6053 Validation Accuracy: 0.462200\n",
      "Epoch  2, CIFAR-10 Batch 1:  Loss:     1.7254 Validation Accuracy: 0.477600\n",
      "Epoch  2, CIFAR-10 Batch 2:  Loss:     1.3976 Validation Accuracy: 0.468800\n",
      "Epoch  2, CIFAR-10 Batch 3:  Loss:     1.1935 Validation Accuracy: 0.508800\n",
      "Epoch  2, CIFAR-10 Batch 4:  Loss:     1.2506 Validation Accuracy: 0.515400\n",
      "Epoch  2, CIFAR-10 Batch 5:  Loss:     1.3559 Validation Accuracy: 0.534800\n",
      "Epoch  3, CIFAR-10 Batch 1:  Loss:     1.5455 Validation Accuracy: 0.525000\n",
      "Epoch  3, CIFAR-10 Batch 2:  Loss:     1.2119 Validation Accuracy: 0.556000\n",
      "Epoch  3, CIFAR-10 Batch 3:  Loss:     1.0374 Validation Accuracy: 0.560600\n",
      "Epoch  3, CIFAR-10 Batch 4:  Loss:     1.0822 Validation Accuracy: 0.568200\n",
      "Epoch  3, CIFAR-10 Batch 5:  Loss:     1.1408 Validation Accuracy: 0.582200\n",
      "Epoch  4, CIFAR-10 Batch 1:  Loss:     1.3554 Validation Accuracy: 0.578800\n",
      "Epoch  4, CIFAR-10 Batch 2:  Loss:     0.9942 Validation Accuracy: 0.599200\n",
      "Epoch  4, CIFAR-10 Batch 3:  Loss:     0.9088 Validation Accuracy: 0.603000\n",
      "Epoch  4, CIFAR-10 Batch 4:  Loss:     0.9857 Validation Accuracy: 0.593800\n",
      "Epoch  4, CIFAR-10 Batch 5:  Loss:     0.9630 Validation Accuracy: 0.613800\n",
      "Epoch  5, CIFAR-10 Batch 1:  Loss:     1.2021 Validation Accuracy: 0.611800\n",
      "Epoch  5, CIFAR-10 Batch 2:  Loss:     0.8732 Validation Accuracy: 0.625000\n",
      "Epoch  5, CIFAR-10 Batch 3:  Loss:     0.7915 Validation Accuracy: 0.628000\n",
      "Epoch  5, CIFAR-10 Batch 4:  Loss:     0.8547 Validation Accuracy: 0.628800\n",
      "Epoch  5, CIFAR-10 Batch 5:  Loss:     0.8686 Validation Accuracy: 0.632800\n",
      "Epoch  6, CIFAR-10 Batch 1:  Loss:     1.0954 Validation Accuracy: 0.631000\n",
      "Epoch  6, CIFAR-10 Batch 2:  Loss:     0.8262 Validation Accuracy: 0.642800\n",
      "Epoch  6, CIFAR-10 Batch 3:  Loss:     0.6865 Validation Accuracy: 0.648200\n",
      "Epoch  6, CIFAR-10 Batch 4:  Loss:     0.7698 Validation Accuracy: 0.639600\n",
      "Epoch  6, CIFAR-10 Batch 5:  Loss:     0.8003 Validation Accuracy: 0.655800\n",
      "Epoch  7, CIFAR-10 Batch 1:  Loss:     1.0018 Validation Accuracy: 0.651000\n",
      "Epoch  7, CIFAR-10 Batch 2:  Loss:     0.6997 Validation Accuracy: 0.656600\n",
      "Epoch  7, CIFAR-10 Batch 3:  Loss:     0.6259 Validation Accuracy: 0.661400\n",
      "Epoch  7, CIFAR-10 Batch 4:  Loss:     0.7010 Validation Accuracy: 0.665200\n",
      "Epoch  7, CIFAR-10 Batch 5:  Loss:     0.6817 Validation Accuracy: 0.672200\n",
      "Epoch  8, CIFAR-10 Batch 1:  Loss:     0.8736 Validation Accuracy: 0.661600\n",
      "Epoch  8, CIFAR-10 Batch 2:  Loss:     0.6782 Validation Accuracy: 0.666200\n",
      "Epoch  8, CIFAR-10 Batch 3:  Loss:     0.5500 Validation Accuracy: 0.670600\n",
      "Epoch  8, CIFAR-10 Batch 4:  Loss:     0.6404 Validation Accuracy: 0.666200\n",
      "Epoch  8, CIFAR-10 Batch 5:  Loss:     0.6417 Validation Accuracy: 0.665400\n",
      "Epoch  9, CIFAR-10 Batch 1:  Loss:     0.7864 Validation Accuracy: 0.665800\n",
      "Epoch  9, CIFAR-10 Batch 2:  Loss:     0.6347 Validation Accuracy: 0.677400\n",
      "Epoch  9, CIFAR-10 Batch 3:  Loss:     0.4833 Validation Accuracy: 0.680800\n",
      "Epoch  9, CIFAR-10 Batch 4:  Loss:     0.6074 Validation Accuracy: 0.684800\n",
      "Epoch  9, CIFAR-10 Batch 5:  Loss:     0.5895 Validation Accuracy: 0.689200\n",
      "Epoch 10, CIFAR-10 Batch 1:  Loss:     0.6981 Validation Accuracy: 0.677000\n",
      "Epoch 10, CIFAR-10 Batch 2:  Loss:     0.5566 Validation Accuracy: 0.692600\n",
      "Epoch 10, CIFAR-10 Batch 3:  Loss:     0.4413 Validation Accuracy: 0.686000\n",
      "Epoch 10, CIFAR-10 Batch 4:  Loss:     0.5361 Validation Accuracy: 0.686800\n",
      "Epoch 10, CIFAR-10 Batch 5:  Loss:     0.5360 Validation Accuracy: 0.690200\n",
      "Epoch 11, CIFAR-10 Batch 1:  Loss:     0.6158 Validation Accuracy: 0.688200\n",
      "Epoch 11, CIFAR-10 Batch 2:  Loss:     0.5459 Validation Accuracy: 0.690400\n",
      "Epoch 11, CIFAR-10 Batch 3:  Loss:     0.3783 Validation Accuracy: 0.704400\n",
      "Epoch 11, CIFAR-10 Batch 4:  Loss:     0.5492 Validation Accuracy: 0.693000\n",
      "Epoch 11, CIFAR-10 Batch 5:  Loss:     0.5362 Validation Accuracy: 0.697600\n",
      "Epoch 12, CIFAR-10 Batch 1:  Loss:     0.5628 Validation Accuracy: 0.692200\n",
      "Epoch 12, CIFAR-10 Batch 2:  Loss:     0.5188 Validation Accuracy: 0.701400\n",
      "Epoch 12, CIFAR-10 Batch 3:  Loss:     0.3843 Validation Accuracy: 0.701000\n",
      "Epoch 12, CIFAR-10 Batch 4:  Loss:     0.5110 Validation Accuracy: 0.698200\n",
      "Epoch 12, CIFAR-10 Batch 5:  Loss:     0.4747 Validation Accuracy: 0.699800\n",
      "Epoch 13, CIFAR-10 Batch 1:  Loss:     0.4813 Validation Accuracy: 0.703800\n",
      "Epoch 13, CIFAR-10 Batch 2:  Loss:     0.4864 Validation Accuracy: 0.694200\n",
      "Epoch 13, CIFAR-10 Batch 3:  Loss:     0.3572 Validation Accuracy: 0.700200\n",
      "Epoch 13, CIFAR-10 Batch 4:  Loss:     0.4975 Validation Accuracy: 0.707200\n",
      "Epoch 13, CIFAR-10 Batch 5:  Loss:     0.4802 Validation Accuracy: 0.702400\n",
      "Epoch 14, CIFAR-10 Batch 1:  Loss:     0.5055 Validation Accuracy: 0.699400\n",
      "Epoch 14, CIFAR-10 Batch 2:  Loss:     0.4691 Validation Accuracy: 0.701800\n",
      "Epoch 14, CIFAR-10 Batch 3:  Loss:     0.3664 Validation Accuracy: 0.697800\n",
      "Epoch 14, CIFAR-10 Batch 4:  Loss:     0.4821 Validation Accuracy: 0.701400\n",
      "Epoch 14, CIFAR-10 Batch 5:  Loss:     0.4154 Validation Accuracy: 0.705600\n",
      "Epoch 15, CIFAR-10 Batch 1:  Loss:     0.4771 Validation Accuracy: 0.703600\n",
      "Epoch 15, CIFAR-10 Batch 2:  Loss:     0.4384 Validation Accuracy: 0.706000\n",
      "Epoch 15, CIFAR-10 Batch 3:  Loss:     0.3375 Validation Accuracy: 0.710400\n",
      "Epoch 15, CIFAR-10 Batch 4:  Loss:     0.4532 Validation Accuracy: 0.713800\n",
      "Epoch 15, CIFAR-10 Batch 5:  Loss:     0.4109 Validation Accuracy: 0.707400\n",
      "Epoch 16, CIFAR-10 Batch 1:  Loss:     0.4628 Validation Accuracy: 0.712200\n",
      "Epoch 16, CIFAR-10 Batch 2:  Loss:     0.4119 Validation Accuracy: 0.713200\n",
      "Epoch 16, CIFAR-10 Batch 3:  Loss:     0.3122 Validation Accuracy: 0.708600\n",
      "Epoch 16, CIFAR-10 Batch 4:  Loss:     0.3991 Validation Accuracy: 0.719000\n",
      "Epoch 16, CIFAR-10 Batch 5:  Loss:     0.3555 Validation Accuracy: 0.714600\n",
      "Epoch 17, CIFAR-10 Batch 1:  Loss:     0.4225 Validation Accuracy: 0.720000\n",
      "Epoch 17, CIFAR-10 Batch 2:  Loss:     0.3570 Validation Accuracy: 0.713800\n",
      "Epoch 17, CIFAR-10 Batch 3:  Loss:     0.2675 Validation Accuracy: 0.715400\n",
      "Epoch 17, CIFAR-10 Batch 4:  Loss:     0.3851 Validation Accuracy: 0.707400\n",
      "Epoch 17, CIFAR-10 Batch 5:  Loss:     0.3454 Validation Accuracy: 0.718000\n",
      "Epoch 18, CIFAR-10 Batch 1:  Loss:     0.3676 Validation Accuracy: 0.715200\n",
      "Epoch 18, CIFAR-10 Batch 2:  Loss:     0.3501 Validation Accuracy: 0.717600\n",
      "Epoch 18, CIFAR-10 Batch 3:  Loss:     0.2863 Validation Accuracy: 0.717600\n",
      "Epoch 18, CIFAR-10 Batch 4:  Loss:     0.3752 Validation Accuracy: 0.719200\n",
      "Epoch 18, CIFAR-10 Batch 5:  Loss:     0.3209 Validation Accuracy: 0.718000\n",
      "Epoch 19, CIFAR-10 Batch 1:  Loss:     0.3678 Validation Accuracy: 0.713400\n",
      "Epoch 19, CIFAR-10 Batch 2:  Loss:     0.3475 Validation Accuracy: 0.718600\n",
      "Epoch 19, CIFAR-10 Batch 3:  Loss:     0.2842 Validation Accuracy: 0.719400\n",
      "Epoch 19, CIFAR-10 Batch 4:  Loss:     0.3751 Validation Accuracy: 0.719600\n",
      "Epoch 19, CIFAR-10 Batch 5:  Loss:     0.3053 Validation Accuracy: 0.726000\n",
      "Epoch 20, CIFAR-10 Batch 1:  Loss:     0.3575 Validation Accuracy: 0.729200\n",
      "Epoch 20, CIFAR-10 Batch 2:  Loss:     0.2954 Validation Accuracy: 0.721600\n",
      "Epoch 20, CIFAR-10 Batch 3:  Loss:     0.2227 Validation Accuracy: 0.725200\n",
      "Epoch 20, CIFAR-10 Batch 4:  Loss:     0.3573 Validation Accuracy: 0.722200\n",
      "Epoch 20, CIFAR-10 Batch 5:  Loss:     0.3414 Validation Accuracy: 0.724800\n",
      "Epoch 21, CIFAR-10 Batch 1:  Loss:     0.3109 Validation Accuracy: 0.723600\n",
      "Epoch 21, CIFAR-10 Batch 2:  Loss:     0.3190 Validation Accuracy: 0.719600\n",
      "Epoch 21, CIFAR-10 Batch 3:  Loss:     0.2601 Validation Accuracy: 0.723800\n",
      "Epoch 21, CIFAR-10 Batch 4:  Loss:     0.3193 Validation Accuracy: 0.720800\n",
      "Epoch 21, CIFAR-10 Batch 5:  Loss:     0.3248 Validation Accuracy: 0.729000\n",
      "Epoch 22, CIFAR-10 Batch 1:  Loss:     0.3183 Validation Accuracy: 0.724000\n",
      "Epoch 22, CIFAR-10 Batch 2:  Loss:     0.3216 Validation Accuracy: 0.725400\n",
      "Epoch 22, CIFAR-10 Batch 3:  Loss:     0.2659 Validation Accuracy: 0.725400\n",
      "Epoch 22, CIFAR-10 Batch 4:  Loss:     0.3064 Validation Accuracy: 0.727400\n",
      "Epoch 22, CIFAR-10 Batch 5:  Loss:     0.3258 Validation Accuracy: 0.725200\n",
      "Epoch 23, CIFAR-10 Batch 1:  Loss:     0.3182 Validation Accuracy: 0.726000\n",
      "Epoch 23, CIFAR-10 Batch 2:  Loss:     0.2940 Validation Accuracy: 0.724600\n",
      "Epoch 23, CIFAR-10 Batch 3:  Loss:     0.2179 Validation Accuracy: 0.730800\n",
      "Epoch 23, CIFAR-10 Batch 4:  Loss:     0.3088 Validation Accuracy: 0.727600\n",
      "Epoch 23, CIFAR-10 Batch 5:  Loss:     0.2815 Validation Accuracy: 0.729000\n",
      "Epoch 24, CIFAR-10 Batch 1:  Loss:     0.3090 Validation Accuracy: 0.730600\n",
      "Epoch 24, CIFAR-10 Batch 2:  Loss:     0.3014 Validation Accuracy: 0.723000\n",
      "Epoch 24, CIFAR-10 Batch 3:  Loss:     0.2178 Validation Accuracy: 0.733400\n",
      "Epoch 24, CIFAR-10 Batch 4:  Loss:     0.2923 Validation Accuracy: 0.731200\n",
      "Epoch 24, CIFAR-10 Batch 5:  Loss:     0.2749 Validation Accuracy: 0.730000\n",
      "Epoch 25, CIFAR-10 Batch 1:  Loss:     0.3142 Validation Accuracy: 0.729400\n",
      "Epoch 25, CIFAR-10 Batch 2:  Loss:     0.2529 Validation Accuracy: 0.724400\n",
      "Epoch 25, CIFAR-10 Batch 3:  Loss:     0.2265 Validation Accuracy: 0.722200\n",
      "Epoch 25, CIFAR-10 Batch 4:  Loss:     0.3118 Validation Accuracy: 0.727400\n",
      "Epoch 25, CIFAR-10 Batch 5:  Loss:     0.2662 Validation Accuracy: 0.726000\n",
      "Epoch 26, CIFAR-10 Batch 1:  Loss:     0.2746 Validation Accuracy: 0.720600\n",
      "Epoch 26, CIFAR-10 Batch 2:  Loss:     0.2350 Validation Accuracy: 0.736200\n",
      "Epoch 26, CIFAR-10 Batch 3:  Loss:     0.2036 Validation Accuracy: 0.730200\n",
      "Epoch 26, CIFAR-10 Batch 4:  Loss:     0.2636 Validation Accuracy: 0.726400\n",
      "Epoch 26, CIFAR-10 Batch 5:  Loss:     0.2576 Validation Accuracy: 0.730000\n",
      "Epoch 27, CIFAR-10 Batch 1:  Loss:     0.2624 Validation Accuracy: 0.738000\n",
      "Epoch 27, CIFAR-10 Batch 2:  Loss:     0.2398 Validation Accuracy: 0.732800\n",
      "Epoch 27, CIFAR-10 Batch 3:  Loss:     0.1901 Validation Accuracy: 0.723800\n",
      "Epoch 27, CIFAR-10 Batch 4:  Loss:     0.2786 Validation Accuracy: 0.733000\n",
      "Epoch 27, CIFAR-10 Batch 5:  Loss:     0.2286 Validation Accuracy: 0.729400\n",
      "Epoch 28, CIFAR-10 Batch 1:  Loss:     0.2388 Validation Accuracy: 0.737600\n",
      "Epoch 28, CIFAR-10 Batch 2:  Loss:     0.2791 Validation Accuracy: 0.729600\n",
      "Epoch 28, CIFAR-10 Batch 3:  Loss:     0.1664 Validation Accuracy: 0.737600\n",
      "Epoch 28, CIFAR-10 Batch 4:  Loss:     0.2456 Validation Accuracy: 0.735200\n",
      "Epoch 28, CIFAR-10 Batch 5:  Loss:     0.2327 Validation Accuracy: 0.732000\n",
      "Epoch 29, CIFAR-10 Batch 1:  Loss:     0.2488 Validation Accuracy: 0.729400\n",
      "Epoch 29, CIFAR-10 Batch 2:  Loss:     0.2370 Validation Accuracy: 0.734600\n",
      "Epoch 29, CIFAR-10 Batch 3:  Loss:     0.1900 Validation Accuracy: 0.733800\n",
      "Epoch 29, CIFAR-10 Batch 4:  Loss:     0.2645 Validation Accuracy: 0.731200\n",
      "Epoch 29, CIFAR-10 Batch 5:  Loss:     0.2069 Validation Accuracy: 0.735000\n",
      "Epoch 30, CIFAR-10 Batch 1:  Loss:     0.2505 Validation Accuracy: 0.743600\n",
      "Epoch 30, CIFAR-10 Batch 2:  Loss:     0.2265 Validation Accuracy: 0.736400\n",
      "Epoch 30, CIFAR-10 Batch 3:  Loss:     0.1713 Validation Accuracy: 0.726400\n",
      "Epoch 30, CIFAR-10 Batch 4:  Loss:     0.2674 Validation Accuracy: 0.735600\n",
      "Epoch 30, CIFAR-10 Batch 5:  Loss:     0.2019 Validation Accuracy: 0.737600\n",
      "Epoch 31, CIFAR-10 Batch 1:  Loss:     0.2506 Validation Accuracy: 0.741200\n",
      "Epoch 31, CIFAR-10 Batch 2:  Loss:     0.2219 Validation Accuracy: 0.734800\n",
      "Epoch 31, CIFAR-10 Batch 3:  Loss:     0.1921 Validation Accuracy: 0.733800\n",
      "Epoch 31, CIFAR-10 Batch 4:  Loss:     0.2139 Validation Accuracy: 0.736000\n",
      "Epoch 31, CIFAR-10 Batch 5:  Loss:     0.1995 Validation Accuracy: 0.735000\n",
      "Epoch 32, CIFAR-10 Batch 1:  Loss:     0.2289 Validation Accuracy: 0.742000\n",
      "Epoch 32, CIFAR-10 Batch 2:  Loss:     0.1937 Validation Accuracy: 0.744000\n",
      "Epoch 32, CIFAR-10 Batch 3:  Loss:     0.1543 Validation Accuracy: 0.735000\n",
      "Epoch 32, CIFAR-10 Batch 4:  Loss:     0.2568 Validation Accuracy: 0.738200\n",
      "Epoch 32, CIFAR-10 Batch 5:  Loss:     0.1922 Validation Accuracy: 0.738200\n",
      "Epoch 33, CIFAR-10 Batch 1:  Loss:     0.2269 Validation Accuracy: 0.744200\n",
      "Epoch 33, CIFAR-10 Batch 2:  Loss:     0.2191 Validation Accuracy: 0.733200\n",
      "Epoch 33, CIFAR-10 Batch 3:  Loss:     0.1579 Validation Accuracy: 0.742000\n",
      "Epoch 33, CIFAR-10 Batch 4:  Loss:     0.2315 Validation Accuracy: 0.744400\n",
      "Epoch 33, CIFAR-10 Batch 5:  Loss:     0.1770 Validation Accuracy: 0.746800\n",
      "Epoch 34, CIFAR-10 Batch 1:  Loss:     0.1890 Validation Accuracy: 0.748000\n",
      "Epoch 34, CIFAR-10 Batch 2:  Loss:     0.1966 Validation Accuracy: 0.744600\n",
      "Epoch 34, CIFAR-10 Batch 3:  Loss:     0.1737 Validation Accuracy: 0.737600\n",
      "Epoch 34, CIFAR-10 Batch 4:  Loss:     0.2290 Validation Accuracy: 0.734400\n",
      "Epoch 34, CIFAR-10 Batch 5:  Loss:     0.1827 Validation Accuracy: 0.747400\n",
      "Epoch 35, CIFAR-10 Batch 1:  Loss:     0.2048 Validation Accuracy: 0.747200\n",
      "Epoch 35, CIFAR-10 Batch 2:  Loss:     0.2124 Validation Accuracy: 0.738800\n",
      "Epoch 35, CIFAR-10 Batch 3:  Loss:     0.1651 Validation Accuracy: 0.735800\n",
      "Epoch 35, CIFAR-10 Batch 4:  Loss:     0.1934 Validation Accuracy: 0.750000\n",
      "Epoch 35, CIFAR-10 Batch 5:  Loss:     0.2028 Validation Accuracy: 0.743400\n",
      "Epoch 36, CIFAR-10 Batch 1:  Loss:     0.1883 Validation Accuracy: 0.747400\n",
      "Epoch 36, CIFAR-10 Batch 2:  Loss:     0.2196 Validation Accuracy: 0.738400\n",
      "Epoch 36, CIFAR-10 Batch 3:  Loss:     0.1547 Validation Accuracy: 0.744800\n",
      "Epoch 36, CIFAR-10 Batch 4:  Loss:     0.2422 Validation Accuracy: 0.737400\n",
      "Epoch 36, CIFAR-10 Batch 5:  Loss:     0.2058 Validation Accuracy: 0.746000\n",
      "Epoch 37, CIFAR-10 Batch 1:  Loss:     0.2496 Validation Accuracy: 0.749800\n",
      "Epoch 37, CIFAR-10 Batch 2:  Loss:     0.2191 Validation Accuracy: 0.738000\n",
      "Epoch 37, CIFAR-10 Batch 3:  Loss:     0.1798 Validation Accuracy: 0.745600\n",
      "Epoch 37, CIFAR-10 Batch 4:  Loss:     0.2259 Validation Accuracy: 0.745000\n",
      "Epoch 37, CIFAR-10 Batch 5:  Loss:     0.1757 Validation Accuracy: 0.746800\n",
      "Epoch 38, CIFAR-10 Batch 1:  Loss:     0.2139 Validation Accuracy: 0.745800\n",
      "Epoch 38, CIFAR-10 Batch 2:  Loss:     0.1995 Validation Accuracy: 0.741800\n",
      "Epoch 38, CIFAR-10 Batch 3:  Loss:     0.1558 Validation Accuracy: 0.736400\n",
      "Epoch 38, CIFAR-10 Batch 4:  Loss:     0.2194 Validation Accuracy: 0.742200\n",
      "Epoch 38, CIFAR-10 Batch 5:  Loss:     0.2057 Validation Accuracy: 0.740800\n",
      "Epoch 39, CIFAR-10 Batch 1:  Loss:     0.1822 Validation Accuracy: 0.744800\n",
      "Epoch 39, CIFAR-10 Batch 2:  Loss:     0.1915 Validation Accuracy: 0.748400\n",
      "Epoch 39, CIFAR-10 Batch 3:  Loss:     0.1323 Validation Accuracy: 0.749600\n",
      "Epoch 39, CIFAR-10 Batch 4:  Loss:     0.2460 Validation Accuracy: 0.736000\n",
      "Epoch 39, CIFAR-10 Batch 5:  Loss:     0.1794 Validation Accuracy: 0.749200\n",
      "Epoch 40, CIFAR-10 Batch 1:  Loss:     0.1860 Validation Accuracy: 0.750000\n",
      "Epoch 40, CIFAR-10 Batch 2:  Loss:     0.1793 Validation Accuracy: 0.751800\n",
      "Epoch 40, CIFAR-10 Batch 3:  Loss:     0.1343 Validation Accuracy: 0.745200\n",
      "Epoch 40, CIFAR-10 Batch 4:  Loss:     0.1937 Validation Accuracy: 0.743000\n",
      "Epoch 40, CIFAR-10 Batch 5:  Loss:     0.1633 Validation Accuracy: 0.746800\n",
      "Epoch 41, CIFAR-10 Batch 1:  Loss:     0.2144 Validation Accuracy: 0.749200\n",
      "Epoch 41, CIFAR-10 Batch 2:  Loss:     0.1668 Validation Accuracy: 0.750600\n",
      "Epoch 41, CIFAR-10 Batch 3:  Loss:     0.1525 Validation Accuracy: 0.752600\n",
      "Epoch 41, CIFAR-10 Batch 4:  Loss:     0.2437 Validation Accuracy: 0.740200\n",
      "Epoch 41, CIFAR-10 Batch 5:  Loss:     0.1554 Validation Accuracy: 0.749600\n",
      "Epoch 42, CIFAR-10 Batch 1:  Loss:     0.1619 Validation Accuracy: 0.752800\n",
      "Epoch 42, CIFAR-10 Batch 2:  Loss:     0.1652 Validation Accuracy: 0.747000\n",
      "Epoch 42, CIFAR-10 Batch 3:  Loss:     0.1263 Validation Accuracy: 0.749400\n",
      "Epoch 42, CIFAR-10 Batch 4:  Loss:     0.2123 Validation Accuracy: 0.748200\n",
      "Epoch 42, CIFAR-10 Batch 5:  Loss:     0.1575 Validation Accuracy: 0.751600\n",
      "Epoch 43, CIFAR-10 Batch 1:  Loss:     0.1896 Validation Accuracy: 0.743400\n",
      "Epoch 43, CIFAR-10 Batch 2:  Loss:     0.1630 Validation Accuracy: 0.745800\n",
      "Epoch 43, CIFAR-10 Batch 3:  Loss:     0.1450 Validation Accuracy: 0.745000\n",
      "Epoch 43, CIFAR-10 Batch 4:  Loss:     0.2464 Validation Accuracy: 0.744200\n",
      "Epoch 43, CIFAR-10 Batch 5:  Loss:     0.1538 Validation Accuracy: 0.750600\n",
      "Epoch 44, CIFAR-10 Batch 1:  Loss:     0.1502 Validation Accuracy: 0.753400\n",
      "Epoch 44, CIFAR-10 Batch 2:  Loss:     0.1627 Validation Accuracy: 0.740000\n",
      "Epoch 44, CIFAR-10 Batch 3:  Loss:     0.1186 Validation Accuracy: 0.749000\n",
      "Epoch 44, CIFAR-10 Batch 4:  Loss:     0.2291 Validation Accuracy: 0.744800\n",
      "Epoch 44, CIFAR-10 Batch 5:  Loss:     0.1637 Validation Accuracy: 0.745000\n",
      "Epoch 45, CIFAR-10 Batch 1:  Loss:     0.1612 Validation Accuracy: 0.751200\n",
      "Epoch 45, CIFAR-10 Batch 2:  Loss:     0.1525 Validation Accuracy: 0.742600\n",
      "Epoch 45, CIFAR-10 Batch 3:  Loss:     0.1332 Validation Accuracy: 0.749200\n",
      "Epoch 45, CIFAR-10 Batch 4:  Loss:     0.1986 Validation Accuracy: 0.751600\n",
      "Epoch 45, CIFAR-10 Batch 5:  Loss:     0.1622 Validation Accuracy: 0.750400\n",
      "Epoch 46, CIFAR-10 Batch 1:  Loss:     0.1690 Validation Accuracy: 0.752000\n",
      "Epoch 46, CIFAR-10 Batch 2:  Loss:     0.1604 Validation Accuracy: 0.746600\n",
      "Epoch 46, CIFAR-10 Batch 3:  Loss:     0.1347 Validation Accuracy: 0.739400\n",
      "Epoch 46, CIFAR-10 Batch 4:  Loss:     0.2076 Validation Accuracy: 0.745800\n",
      "Epoch 46, CIFAR-10 Batch 5:  Loss:     0.1622 Validation Accuracy: 0.749200\n",
      "Epoch 47, CIFAR-10 Batch 1:  Loss:     0.1615 Validation Accuracy: 0.753600\n",
      "Epoch 47, CIFAR-10 Batch 2:  Loss:     0.1548 Validation Accuracy: 0.748800\n",
      "Epoch 47, CIFAR-10 Batch 3:  Loss:     0.1408 Validation Accuracy: 0.744600\n",
      "Epoch 47, CIFAR-10 Batch 4:  Loss:     0.1898 Validation Accuracy: 0.749200\n",
      "Epoch 47, CIFAR-10 Batch 5:  Loss:     0.1252 Validation Accuracy: 0.756400\n",
      "Epoch 48, CIFAR-10 Batch 1:  Loss:     0.1446 Validation Accuracy: 0.757200\n",
      "Epoch 48, CIFAR-10 Batch 2:  Loss:     0.1693 Validation Accuracy: 0.751400\n",
      "Epoch 48, CIFAR-10 Batch 3:  Loss:     0.1601 Validation Accuracy: 0.750800\n",
      "Epoch 48, CIFAR-10 Batch 4:  Loss:     0.1781 Validation Accuracy: 0.750400\n",
      "Epoch 48, CIFAR-10 Batch 5:  Loss:     0.1380 Validation Accuracy: 0.751200\n",
      "Epoch 49, CIFAR-10 Batch 1:  Loss:     0.1587 Validation Accuracy: 0.755600\n",
      "Epoch 49, CIFAR-10 Batch 2:  Loss:     0.1731 Validation Accuracy: 0.742800\n",
      "Epoch 49, CIFAR-10 Batch 3:  Loss:     0.1290 Validation Accuracy: 0.749600\n",
      "Epoch 49, CIFAR-10 Batch 4:  Loss:     0.1581 Validation Accuracy: 0.747200\n",
      "Epoch 49, CIFAR-10 Batch 5:  Loss:     0.1293 Validation Accuracy: 0.748000\n",
      "Epoch 50, CIFAR-10 Batch 1:  Loss:     0.1566 Validation Accuracy: 0.749200\n",
      "Epoch 50, CIFAR-10 Batch 2:  Loss:     0.1520 Validation Accuracy: 0.748400\n",
      "Epoch 50, CIFAR-10 Batch 3:  Loss:     0.1198 Validation Accuracy: 0.752800\n",
      "Epoch 50, CIFAR-10 Batch 4:  Loss:     0.1828 Validation Accuracy: 0.748400\n",
      "Epoch 50, CIFAR-10 Batch 5:  Loss:     0.1512 Validation Accuracy: 0.751800\n",
      "Epoch 51, CIFAR-10 Batch 1:  Loss:     0.1278 Validation Accuracy: 0.756200\n",
      "Epoch 51, CIFAR-10 Batch 2:  Loss:     0.1647 Validation Accuracy: 0.746000\n",
      "Epoch 51, CIFAR-10 Batch 3:  Loss:     0.1365 Validation Accuracy: 0.747000\n",
      "Epoch 51, CIFAR-10 Batch 4:  Loss:     0.1568 Validation Accuracy: 0.742600\n",
      "Epoch 51, CIFAR-10 Batch 5:  Loss:     0.1214 Validation Accuracy: 0.754400\n",
      "Epoch 52, CIFAR-10 Batch 1:  Loss:     0.1504 Validation Accuracy: 0.755000\n",
      "Epoch 52, CIFAR-10 Batch 2:  Loss:     0.1390 Validation Accuracy: 0.750800\n",
      "Epoch 52, CIFAR-10 Batch 3:  Loss:     0.1218 Validation Accuracy: 0.747600\n",
      "Epoch 52, CIFAR-10 Batch 4:  Loss:     0.1708 Validation Accuracy: 0.744600\n",
      "Epoch 52, CIFAR-10 Batch 5:  Loss:     0.1112 Validation Accuracy: 0.754600\n",
      "Epoch 53, CIFAR-10 Batch 1:  Loss:     0.1548 Validation Accuracy: 0.756200\n",
      "Epoch 53, CIFAR-10 Batch 2:  Loss:     0.1469 Validation Accuracy: 0.755600\n",
      "Epoch 53, CIFAR-10 Batch 3:  Loss:     0.1245 Validation Accuracy: 0.759600\n",
      "Epoch 53, CIFAR-10 Batch 4:  Loss:     0.1886 Validation Accuracy: 0.742000\n",
      "Epoch 53, CIFAR-10 Batch 5:  Loss:     0.1176 Validation Accuracy: 0.754400\n",
      "Epoch 54, CIFAR-10 Batch 1:  Loss:     0.1583 Validation Accuracy: 0.761400\n",
      "Epoch 54, CIFAR-10 Batch 2:  Loss:     0.1543 Validation Accuracy: 0.755400\n",
      "Epoch 54, CIFAR-10 Batch 3:  Loss:     0.0921 Validation Accuracy: 0.753600\n",
      "Epoch 54, CIFAR-10 Batch 4:  Loss:     0.1691 Validation Accuracy: 0.754800\n",
      "Epoch 54, CIFAR-10 Batch 5:  Loss:     0.1267 Validation Accuracy: 0.752200\n",
      "Epoch 55, CIFAR-10 Batch 1:  Loss:     0.1692 Validation Accuracy: 0.752800\n",
      "Epoch 55, CIFAR-10 Batch 2:  Loss:     0.1344 Validation Accuracy: 0.751800\n",
      "Epoch 55, CIFAR-10 Batch 3:  Loss:     0.1113 Validation Accuracy: 0.752400\n",
      "Epoch 55, CIFAR-10 Batch 4:  Loss:     0.1599 Validation Accuracy: 0.747000\n",
      "Epoch 55, CIFAR-10 Batch 5:  Loss:     0.1335 Validation Accuracy: 0.757200\n",
      "Epoch 56, CIFAR-10 Batch 1:  Loss:     0.1444 Validation Accuracy: 0.753200\n",
      "Epoch 56, CIFAR-10 Batch 2:  Loss:     0.1713 Validation Accuracy: 0.750800\n",
      "Epoch 56, CIFAR-10 Batch 3:  Loss:     0.1166 Validation Accuracy: 0.758200\n",
      "Epoch 56, CIFAR-10 Batch 4:  Loss:     0.1819 Validation Accuracy: 0.749400\n",
      "Epoch 56, CIFAR-10 Batch 5:  Loss:     0.1283 Validation Accuracy: 0.750600\n",
      "Epoch 57, CIFAR-10 Batch 1:  Loss:     0.1549 Validation Accuracy: 0.752000\n",
      "Epoch 57, CIFAR-10 Batch 2:  Loss:     0.1499 Validation Accuracy: 0.749200\n",
      "Epoch 57, CIFAR-10 Batch 3:  Loss:     0.1330 Validation Accuracy: 0.751000\n",
      "Epoch 57, CIFAR-10 Batch 4:  Loss:     0.1678 Validation Accuracy: 0.750400\n",
      "Epoch 57, CIFAR-10 Batch 5:  Loss:     0.1362 Validation Accuracy: 0.752000\n",
      "Epoch 58, CIFAR-10 Batch 1:  Loss:     0.1320 Validation Accuracy: 0.760600\n",
      "Epoch 58, CIFAR-10 Batch 2:  Loss:     0.1403 Validation Accuracy: 0.756000\n",
      "Epoch 58, CIFAR-10 Batch 3:  Loss:     0.1096 Validation Accuracy: 0.753400\n",
      "Epoch 58, CIFAR-10 Batch 4:  Loss:     0.1963 Validation Accuracy: 0.750000\n",
      "Epoch 58, CIFAR-10 Batch 5:  Loss:     0.1358 Validation Accuracy: 0.754000\n",
      "Epoch 59, CIFAR-10 Batch 1:  Loss:     0.1133 Validation Accuracy: 0.757800\n",
      "Epoch 59, CIFAR-10 Batch 2:  Loss:     0.1544 Validation Accuracy: 0.747200\n",
      "Epoch 59, CIFAR-10 Batch 3:  Loss:     0.1185 Validation Accuracy: 0.760200\n",
      "Epoch 59, CIFAR-10 Batch 4:  Loss:     0.1592 Validation Accuracy: 0.752800\n",
      "Epoch 59, CIFAR-10 Batch 5:  Loss:     0.1209 Validation Accuracy: 0.750400\n",
      "Epoch 60, CIFAR-10 Batch 1:  Loss:     0.1352 Validation Accuracy: 0.753200\n",
      "Epoch 60, CIFAR-10 Batch 2:  Loss:     0.1410 Validation Accuracy: 0.751400\n",
      "Epoch 60, CIFAR-10 Batch 3:  Loss:     0.0918 Validation Accuracy: 0.759000\n",
      "Epoch 60, CIFAR-10 Batch 4:  Loss:     0.1623 Validation Accuracy: 0.752000\n",
      "Epoch 60, CIFAR-10 Batch 5:  Loss:     0.0912 Validation Accuracy: 0.751600\n",
      "Epoch 61, CIFAR-10 Batch 1:  Loss:     0.1221 Validation Accuracy: 0.756200\n",
      "Epoch 61, CIFAR-10 Batch 2:  Loss:     0.1516 Validation Accuracy: 0.749800\n",
      "Epoch 61, CIFAR-10 Batch 3:  Loss:     0.1038 Validation Accuracy: 0.756200\n",
      "Epoch 61, CIFAR-10 Batch 4:  Loss:     0.1714 Validation Accuracy: 0.755000\n",
      "Epoch 61, CIFAR-10 Batch 5:  Loss:     0.1068 Validation Accuracy: 0.760000\n",
      "Epoch 62, CIFAR-10 Batch 1:  Loss:     0.1132 Validation Accuracy: 0.758800\n",
      "Epoch 62, CIFAR-10 Batch 2:  Loss:     0.1387 Validation Accuracy: 0.749200\n",
      "Epoch 62, CIFAR-10 Batch 3:  Loss:     0.0927 Validation Accuracy: 0.762000\n",
      "Epoch 62, CIFAR-10 Batch 4:  Loss:     0.1658 Validation Accuracy: 0.756200\n",
      "Epoch 62, CIFAR-10 Batch 5:  Loss:     0.1101 Validation Accuracy: 0.752200\n",
      "Epoch 63, CIFAR-10 Batch 1:  Loss:     0.0952 Validation Accuracy: 0.748200\n",
      "Epoch 63, CIFAR-10 Batch 2:  Loss:     0.1400 Validation Accuracy: 0.749800\n",
      "Epoch 63, CIFAR-10 Batch 3:  Loss:     0.0812 Validation Accuracy: 0.753600\n",
      "Epoch 63, CIFAR-10 Batch 4:  Loss:     0.1469 Validation Accuracy: 0.754800\n",
      "Epoch 63, CIFAR-10 Batch 5:  Loss:     0.1302 Validation Accuracy: 0.764400\n",
      "Epoch 64, CIFAR-10 Batch 1:  Loss:     0.1084 Validation Accuracy: 0.761200\n",
      "Epoch 64, CIFAR-10 Batch 2:  Loss:     0.1461 Validation Accuracy: 0.751600\n",
      "Epoch 64, CIFAR-10 Batch 3:  Loss:     0.0775 Validation Accuracy: 0.760000\n",
      "Epoch 64, CIFAR-10 Batch 4:  Loss:     0.1595 Validation Accuracy: 0.753800\n",
      "Epoch 64, CIFAR-10 Batch 5:  Loss:     0.1175 Validation Accuracy: 0.767400\n",
      "Epoch 65, CIFAR-10 Batch 1:  Loss:     0.1146 Validation Accuracy: 0.757400\n",
      "Epoch 65, CIFAR-10 Batch 2:  Loss:     0.1273 Validation Accuracy: 0.749200\n",
      "Epoch 65, CIFAR-10 Batch 3:  Loss:     0.1141 Validation Accuracy: 0.755400\n",
      "Epoch 65, CIFAR-10 Batch 4:  Loss:     0.1624 Validation Accuracy: 0.758800\n",
      "Epoch 65, CIFAR-10 Batch 5:  Loss:     0.1175 Validation Accuracy: 0.754600\n",
      "Epoch 66, CIFAR-10 Batch 1:  Loss:     0.1131 Validation Accuracy: 0.762400\n",
      "Epoch 66, CIFAR-10 Batch 2:  Loss:     0.1326 Validation Accuracy: 0.753400\n",
      "Epoch 66, CIFAR-10 Batch 3:  Loss:     0.1190 Validation Accuracy: 0.761000\n",
      "Epoch 66, CIFAR-10 Batch 4:  Loss:     0.1504 Validation Accuracy: 0.750400\n",
      "Epoch 66, CIFAR-10 Batch 5:  Loss:     0.1119 Validation Accuracy: 0.758400\n",
      "Epoch 67, CIFAR-10 Batch 1:  Loss:     0.1309 Validation Accuracy: 0.755200\n",
      "Epoch 67, CIFAR-10 Batch 2:  Loss:     0.1156 Validation Accuracy: 0.748600\n",
      "Epoch 67, CIFAR-10 Batch 3:  Loss:     0.0936 Validation Accuracy: 0.766600\n",
      "Epoch 67, CIFAR-10 Batch 4:  Loss:     0.1668 Validation Accuracy: 0.754200\n",
      "Epoch 67, CIFAR-10 Batch 5:  Loss:     0.1027 Validation Accuracy: 0.762400\n",
      "Epoch 68, CIFAR-10 Batch 1:  Loss:     0.1087 Validation Accuracy: 0.757600\n",
      "Epoch 68, CIFAR-10 Batch 2:  Loss:     0.1169 Validation Accuracy: 0.754600\n",
      "Epoch 68, CIFAR-10 Batch 3:  Loss:     0.1188 Validation Accuracy: 0.756600\n",
      "Epoch 68, CIFAR-10 Batch 4:  Loss:     0.1555 Validation Accuracy: 0.756600\n",
      "Epoch 68, CIFAR-10 Batch 5:  Loss:     0.0984 Validation Accuracy: 0.755600\n",
      "Epoch 69, CIFAR-10 Batch 1:  Loss:     0.1461 Validation Accuracy: 0.753600\n",
      "Epoch 69, CIFAR-10 Batch 2:  Loss:     0.1193 Validation Accuracy: 0.753400\n",
      "Epoch 69, CIFAR-10 Batch 3:  Loss:     0.1118 Validation Accuracy: 0.760800\n",
      "Epoch 69, CIFAR-10 Batch 4:  Loss:     0.1281 Validation Accuracy: 0.758600\n",
      "Epoch 69, CIFAR-10 Batch 5:  Loss:     0.0867 Validation Accuracy: 0.762800\n",
      "Epoch 70, CIFAR-10 Batch 1:  Loss:     0.1643 Validation Accuracy: 0.767800\n",
      "Epoch 70, CIFAR-10 Batch 2:  Loss:     0.1091 Validation Accuracy: 0.762400\n",
      "Epoch 70, CIFAR-10 Batch 3:  Loss:     0.1023 Validation Accuracy: 0.761800\n",
      "Epoch 70, CIFAR-10 Batch 4:  Loss:     0.1430 Validation Accuracy: 0.758000\n",
      "Epoch 70, CIFAR-10 Batch 5:  Loss:     0.1109 Validation Accuracy: 0.769800\n",
      "Epoch 71, CIFAR-10 Batch 1:  Loss:     0.1246 Validation Accuracy: 0.760000\n",
      "Epoch 71, CIFAR-10 Batch 2:  Loss:     0.1292 Validation Accuracy: 0.755200\n",
      "Epoch 71, CIFAR-10 Batch 3:  Loss:     0.0871 Validation Accuracy: 0.758200\n",
      "Epoch 71, CIFAR-10 Batch 4:  Loss:     0.1511 Validation Accuracy: 0.762800\n",
      "Epoch 71, CIFAR-10 Batch 5:  Loss:     0.1074 Validation Accuracy: 0.759800\n",
      "Epoch 72, CIFAR-10 Batch 1:  Loss:     0.1033 Validation Accuracy: 0.761600\n",
      "Epoch 72, CIFAR-10 Batch 2:  Loss:     0.1074 Validation Accuracy: 0.748400\n",
      "Epoch 72, CIFAR-10 Batch 3:  Loss:     0.0727 Validation Accuracy: 0.759400\n",
      "Epoch 72, CIFAR-10 Batch 4:  Loss:     0.1510 Validation Accuracy: 0.762000\n",
      "Epoch 72, CIFAR-10 Batch 5:  Loss:     0.1174 Validation Accuracy: 0.761000\n",
      "Epoch 73, CIFAR-10 Batch 1:  Loss:     0.1309 Validation Accuracy: 0.752400\n",
      "Epoch 73, CIFAR-10 Batch 2:  Loss:     0.0882 Validation Accuracy: 0.750200\n",
      "Epoch 73, CIFAR-10 Batch 3:  Loss:     0.0879 Validation Accuracy: 0.764200\n",
      "Epoch 73, CIFAR-10 Batch 4:  Loss:     0.1487 Validation Accuracy: 0.752000\n",
      "Epoch 73, CIFAR-10 Batch 5:  Loss:     0.0833 Validation Accuracy: 0.759800\n",
      "Epoch 74, CIFAR-10 Batch 1:  Loss:     0.0939 Validation Accuracy: 0.758800\n",
      "Epoch 74, CIFAR-10 Batch 2:  Loss:     0.0982 Validation Accuracy: 0.760800\n",
      "Epoch 74, CIFAR-10 Batch 3:  Loss:     0.0736 Validation Accuracy: 0.762800\n",
      "Epoch 74, CIFAR-10 Batch 4:  Loss:     0.1916 Validation Accuracy: 0.749800\n",
      "Epoch 74, CIFAR-10 Batch 5:  Loss:     0.0923 Validation Accuracy: 0.759600\n",
      "Epoch 75, CIFAR-10 Batch 1:  Loss:     0.1088 Validation Accuracy: 0.761400\n",
      "Epoch 75, CIFAR-10 Batch 2:  Loss:     0.0988 Validation Accuracy: 0.761600\n",
      "Epoch 75, CIFAR-10 Batch 3:  Loss:     0.0798 Validation Accuracy: 0.757400\n",
      "Epoch 75, CIFAR-10 Batch 4:  Loss:     0.1690 Validation Accuracy: 0.753600\n",
      "Epoch 75, CIFAR-10 Batch 5:  Loss:     0.1023 Validation Accuracy: 0.757400\n",
      "Epoch 76, CIFAR-10 Batch 1:  Loss:     0.1159 Validation Accuracy: 0.755600\n",
      "Epoch 76, CIFAR-10 Batch 2:  Loss:     0.1301 Validation Accuracy: 0.757600\n",
      "Epoch 76, CIFAR-10 Batch 3:  Loss:     0.0715 Validation Accuracy: 0.756000\n",
      "Epoch 76, CIFAR-10 Batch 4:  Loss:     0.1628 Validation Accuracy: 0.749600\n",
      "Epoch 76, CIFAR-10 Batch 5:  Loss:     0.1042 Validation Accuracy: 0.758200\n",
      "Epoch 77, CIFAR-10 Batch 1:  Loss:     0.1352 Validation Accuracy: 0.758200\n",
      "Epoch 77, CIFAR-10 Batch 2:  Loss:     0.1106 Validation Accuracy: 0.751200\n",
      "Epoch 77, CIFAR-10 Batch 3:  Loss:     0.0845 Validation Accuracy: 0.764400\n",
      "Epoch 77, CIFAR-10 Batch 4:  Loss:     0.1425 Validation Accuracy: 0.760400\n",
      "Epoch 77, CIFAR-10 Batch 5:  Loss:     0.0974 Validation Accuracy: 0.760600\n",
      "Epoch 78, CIFAR-10 Batch 1:  Loss:     0.0954 Validation Accuracy: 0.761800\n",
      "Epoch 78, CIFAR-10 Batch 2:  Loss:     0.0809 Validation Accuracy: 0.765800\n",
      "Epoch 78, CIFAR-10 Batch 3:  Loss:     0.0819 Validation Accuracy: 0.758400\n",
      "Epoch 78, CIFAR-10 Batch 4:  Loss:     0.1515 Validation Accuracy: 0.756400\n",
      "Epoch 78, CIFAR-10 Batch 5:  Loss:     0.0825 Validation Accuracy: 0.757800\n",
      "Epoch 79, CIFAR-10 Batch 1:  Loss:     0.0865 Validation Accuracy: 0.761600\n",
      "Epoch 79, CIFAR-10 Batch 2:  Loss:     0.1143 Validation Accuracy: 0.757000\n",
      "Epoch 79, CIFAR-10 Batch 3:  Loss:     0.0895 Validation Accuracy: 0.765400\n",
      "Epoch 79, CIFAR-10 Batch 4:  Loss:     0.1433 Validation Accuracy: 0.759400\n",
      "Epoch 79, CIFAR-10 Batch 5:  Loss:     0.0912 Validation Accuracy: 0.759200\n",
      "Epoch 80, CIFAR-10 Batch 1:  Loss:     0.1084 Validation Accuracy: 0.759400\n",
      "Epoch 80, CIFAR-10 Batch 2:  Loss:     0.0920 Validation Accuracy: 0.762800\n",
      "Epoch 80, CIFAR-10 Batch 3:  Loss:     0.0740 Validation Accuracy: 0.763600\n",
      "Epoch 80, CIFAR-10 Batch 4:  Loss:     0.1267 Validation Accuracy: 0.762400\n",
      "Epoch 80, CIFAR-10 Batch 5:  Loss:     0.0876 Validation Accuracy: 0.758400\n",
      "Epoch 81, CIFAR-10 Batch 1:  Loss:     0.1309 Validation Accuracy: 0.760600\n",
      "Epoch 81, CIFAR-10 Batch 2:  Loss:     0.1086 Validation Accuracy: 0.764400\n",
      "Epoch 81, CIFAR-10 Batch 3:  Loss:     0.0654 Validation Accuracy: 0.763200\n",
      "Epoch 81, CIFAR-10 Batch 4:  Loss:     0.1260 Validation Accuracy: 0.759000\n",
      "Epoch 81, CIFAR-10 Batch 5:  Loss:     0.0861 Validation Accuracy: 0.759600\n",
      "Epoch 82, CIFAR-10 Batch 1:  Loss:     0.1195 Validation Accuracy: 0.750600\n",
      "Epoch 82, CIFAR-10 Batch 2:  Loss:     0.0929 Validation Accuracy: 0.761400\n",
      "Epoch 82, CIFAR-10 Batch 3:  Loss:     0.0611 Validation Accuracy: 0.764800\n",
      "Epoch 82, CIFAR-10 Batch 4:  Loss:     0.1272 Validation Accuracy: 0.761000\n",
      "Epoch 82, CIFAR-10 Batch 5:  Loss:     0.0806 Validation Accuracy: 0.762200\n",
      "Epoch 83, CIFAR-10 Batch 1:  Loss:     0.0974 Validation Accuracy: 0.762400\n",
      "Epoch 83, CIFAR-10 Batch 2:  Loss:     0.1127 Validation Accuracy: 0.764200\n",
      "Epoch 83, CIFAR-10 Batch 3:  Loss:     0.1095 Validation Accuracy: 0.754000\n",
      "Epoch 83, CIFAR-10 Batch 4:  Loss:     0.1324 Validation Accuracy: 0.763200\n",
      "Epoch 83, CIFAR-10 Batch 5:  Loss:     0.0974 Validation Accuracy: 0.759000\n",
      "Epoch 84, CIFAR-10 Batch 1:  Loss:     0.1200 Validation Accuracy: 0.759400\n",
      "Epoch 84, CIFAR-10 Batch 2:  Loss:     0.0825 Validation Accuracy: 0.758600\n",
      "Epoch 84, CIFAR-10 Batch 3:  Loss:     0.1143 Validation Accuracy: 0.770000\n",
      "Epoch 84, CIFAR-10 Batch 4:  Loss:     0.1351 Validation Accuracy: 0.759400\n",
      "Epoch 84, CIFAR-10 Batch 5:  Loss:     0.0749 Validation Accuracy: 0.767200\n",
      "Epoch 85, CIFAR-10 Batch 1:  Loss:     0.1601 Validation Accuracy: 0.760600\n",
      "Epoch 85, CIFAR-10 Batch 2:  Loss:     0.1062 Validation Accuracy: 0.760600\n",
      "Epoch 85, CIFAR-10 Batch 3:  Loss:     0.0780 Validation Accuracy: 0.761400\n",
      "Epoch 85, CIFAR-10 Batch 4:  Loss:     0.1208 Validation Accuracy: 0.762600\n",
      "Epoch 85, CIFAR-10 Batch 5:  Loss:     0.0729 Validation Accuracy: 0.766400\n",
      "Epoch 86, CIFAR-10 Batch 1:  Loss:     0.1187 Validation Accuracy: 0.761600\n",
      "Epoch 86, CIFAR-10 Batch 2:  Loss:     0.0861 Validation Accuracy: 0.768600\n",
      "Epoch 86, CIFAR-10 Batch 3:  Loss:     0.0785 Validation Accuracy: 0.765000\n",
      "Epoch 86, CIFAR-10 Batch 4:  Loss:     0.1053 Validation Accuracy: 0.759800\n",
      "Epoch 86, CIFAR-10 Batch 5:  Loss:     0.0806 Validation Accuracy: 0.767200\n",
      "Epoch 87, CIFAR-10 Batch 1:  Loss:     0.1165 Validation Accuracy: 0.755200\n",
      "Epoch 87, CIFAR-10 Batch 2:  Loss:     0.1029 Validation Accuracy: 0.759400\n",
      "Epoch 87, CIFAR-10 Batch 3:  Loss:     0.0770 Validation Accuracy: 0.761600\n",
      "Epoch 87, CIFAR-10 Batch 4:  Loss:     0.1184 Validation Accuracy: 0.759600\n",
      "Epoch 87, CIFAR-10 Batch 5:  Loss:     0.0731 Validation Accuracy: 0.758800\n",
      "Epoch 88, CIFAR-10 Batch 1:  Loss:     0.1305 Validation Accuracy: 0.757200\n",
      "Epoch 88, CIFAR-10 Batch 2:  Loss:     0.0838 Validation Accuracy: 0.759600\n",
      "Epoch 88, CIFAR-10 Batch 3:  Loss:     0.0724 Validation Accuracy: 0.764800\n",
      "Epoch 88, CIFAR-10 Batch 4:  Loss:     0.1099 Validation Accuracy: 0.763200\n",
      "Epoch 88, CIFAR-10 Batch 5:  Loss:     0.0675 Validation Accuracy: 0.771200\n",
      "Epoch 89, CIFAR-10 Batch 1:  Loss:     0.0944 Validation Accuracy: 0.763200\n",
      "Epoch 89, CIFAR-10 Batch 2:  Loss:     0.0859 Validation Accuracy: 0.766200\n",
      "Epoch 89, CIFAR-10 Batch 3:  Loss:     0.0845 Validation Accuracy: 0.760400\n",
      "Epoch 89, CIFAR-10 Batch 4:  Loss:     0.1104 Validation Accuracy: 0.763000\n",
      "Epoch 89, CIFAR-10 Batch 5:  Loss:     0.0945 Validation Accuracy: 0.758600\n",
      "Epoch 90, CIFAR-10 Batch 1:  Loss:     0.0939 Validation Accuracy: 0.761600\n",
      "Epoch 90, CIFAR-10 Batch 2:  Loss:     0.1010 Validation Accuracy: 0.764400\n",
      "Epoch 90, CIFAR-10 Batch 3:  Loss:     0.0723 Validation Accuracy: 0.767800\n",
      "Epoch 90, CIFAR-10 Batch 4:  Loss:     0.1003 Validation Accuracy: 0.760200\n",
      "Epoch 90, CIFAR-10 Batch 5:  Loss:     0.0814 Validation Accuracy: 0.761800\n",
      "Epoch 91, CIFAR-10 Batch 1:  Loss:     0.1072 Validation Accuracy: 0.755600\n",
      "Epoch 91, CIFAR-10 Batch 2:  Loss:     0.1022 Validation Accuracy: 0.766000\n",
      "Epoch 91, CIFAR-10 Batch 3:  Loss:     0.0794 Validation Accuracy: 0.757200\n",
      "Epoch 91, CIFAR-10 Batch 4:  Loss:     0.1184 Validation Accuracy: 0.758600\n",
      "Epoch 91, CIFAR-10 Batch 5:  Loss:     0.0782 Validation Accuracy: 0.764400\n",
      "Epoch 92, CIFAR-10 Batch 1:  Loss:     0.1150 Validation Accuracy: 0.760200\n",
      "Epoch 92, CIFAR-10 Batch 2:  Loss:     0.0950 Validation Accuracy: 0.767800\n",
      "Epoch 92, CIFAR-10 Batch 3:  Loss:     0.0946 Validation Accuracy: 0.754800\n",
      "Epoch 92, CIFAR-10 Batch 4:  Loss:     0.1199 Validation Accuracy: 0.760000\n",
      "Epoch 92, CIFAR-10 Batch 5:  Loss:     0.0954 Validation Accuracy: 0.760400\n",
      "Epoch 93, CIFAR-10 Batch 1:  Loss:     0.0797 Validation Accuracy: 0.756200\n",
      "Epoch 93, CIFAR-10 Batch 2:  Loss:     0.0931 Validation Accuracy: 0.758800\n",
      "Epoch 93, CIFAR-10 Batch 3:  Loss:     0.0638 Validation Accuracy: 0.763600\n",
      "Epoch 93, CIFAR-10 Batch 4:  Loss:     0.1181 Validation Accuracy: 0.757000\n",
      "Epoch 93, CIFAR-10 Batch 5:  Loss:     0.1126 Validation Accuracy: 0.758400\n",
      "Epoch 94, CIFAR-10 Batch 1:  Loss:     0.0949 Validation Accuracy: 0.756000\n",
      "Epoch 94, CIFAR-10 Batch 2:  Loss:     0.0824 Validation Accuracy: 0.766200\n",
      "Epoch 94, CIFAR-10 Batch 3:  Loss:     0.0582 Validation Accuracy: 0.762600\n",
      "Epoch 94, CIFAR-10 Batch 4:  Loss:     0.1213 Validation Accuracy: 0.753400\n",
      "Epoch 94, CIFAR-10 Batch 5:  Loss:     0.0907 Validation Accuracy: 0.761000\n",
      "Epoch 95, CIFAR-10 Batch 1:  Loss:     0.0978 Validation Accuracy: 0.752400\n",
      "Epoch 95, CIFAR-10 Batch 2:  Loss:     0.0835 Validation Accuracy: 0.763400\n",
      "Epoch 95, CIFAR-10 Batch 3:  Loss:     0.0678 Validation Accuracy: 0.764400\n",
      "Epoch 95, CIFAR-10 Batch 4:  Loss:     0.1008 Validation Accuracy: 0.753400\n",
      "Epoch 95, CIFAR-10 Batch 5:  Loss:     0.1077 Validation Accuracy: 0.752200\n",
      "Epoch 96, CIFAR-10 Batch 1:  Loss:     0.0866 Validation Accuracy: 0.765400\n",
      "Epoch 96, CIFAR-10 Batch 2:  Loss:     0.0943 Validation Accuracy: 0.769000\n",
      "Epoch 96, CIFAR-10 Batch 3:  Loss:     0.0654 Validation Accuracy: 0.763200\n",
      "Epoch 96, CIFAR-10 Batch 4:  Loss:     0.1091 Validation Accuracy: 0.756400\n",
      "Epoch 96, CIFAR-10 Batch 5:  Loss:     0.1068 Validation Accuracy: 0.765200\n",
      "Epoch 97, CIFAR-10 Batch 1:  Loss:     0.1235 Validation Accuracy: 0.757600\n",
      "Epoch 97, CIFAR-10 Batch 2:  Loss:     0.0957 Validation Accuracy: 0.767000\n",
      "Epoch 97, CIFAR-10 Batch 3:  Loss:     0.0724 Validation Accuracy: 0.765000\n",
      "Epoch 97, CIFAR-10 Batch 4:  Loss:     0.1318 Validation Accuracy: 0.760200\n",
      "Epoch 97, CIFAR-10 Batch 5:  Loss:     0.1052 Validation Accuracy: 0.748600\n",
      "Epoch 98, CIFAR-10 Batch 1:  Loss:     0.0744 Validation Accuracy: 0.762200\n",
      "Epoch 98, CIFAR-10 Batch 2:  Loss:     0.0941 Validation Accuracy: 0.764800\n",
      "Epoch 98, CIFAR-10 Batch 3:  Loss:     0.0857 Validation Accuracy: 0.768800\n",
      "Epoch 98, CIFAR-10 Batch 4:  Loss:     0.1152 Validation Accuracy: 0.758800\n",
      "Epoch 98, CIFAR-10 Batch 5:  Loss:     0.1248 Validation Accuracy: 0.755600\n",
      "Epoch 99, CIFAR-10 Batch 1:  Loss:     0.0849 Validation Accuracy: 0.760200\n",
      "Epoch 99, CIFAR-10 Batch 2:  Loss:     0.0885 Validation Accuracy: 0.768800\n",
      "Epoch 99, CIFAR-10 Batch 3:  Loss:     0.0557 Validation Accuracy: 0.765200\n",
      "Epoch 99, CIFAR-10 Batch 4:  Loss:     0.1421 Validation Accuracy: 0.752800\n",
      "Epoch 99, CIFAR-10 Batch 5:  Loss:     0.1155 Validation Accuracy: 0.758400\n",
      "Epoch 100, CIFAR-10 Batch 1:  Loss:     0.0920 Validation Accuracy: 0.758800\n",
      "Epoch 100, CIFAR-10 Batch 2:  Loss:     0.1020 Validation Accuracy: 0.769400\n",
      "Epoch 100, CIFAR-10 Batch 3:  Loss:     0.0659 Validation Accuracy: 0.764600\n",
      "Epoch 100, CIFAR-10 Batch 4:  Loss:     0.1324 Validation Accuracy: 0.762400\n",
      "Epoch 100, CIFAR-10 Batch 5:  Loss:     0.0931 Validation Accuracy: 0.758800\n"
     ]
    }
   ],
   "source": [
    "\"\"\"\n",
    "DON'T MODIFY ANYTHING IN THIS CELL\n",
    "\"\"\"\n",
    "save_model_path = './image_classification'\n",
    "\n",
    "print('Training...')\n",
    "with tf.Session() as sess:\n",
    "    # Initializing the variables\n",
    "    sess.run(tf.global_variables_initializer())\n",
    "    \n",
    "    # Training cycle\n",
    "    for epoch in range(epochs):\n",
    "        # Loop over all batches\n",
    "        n_batches = 5\n",
    "        for batch_i in range(1, n_batches + 1):\n",
    "            for batch_features, batch_labels in helper.load_preprocess_training_batch(batch_i, batch_size):\n",
    "                train_neural_network(sess, optimizer, keep_probability, batch_features, batch_labels)\n",
    "            print('Epoch {:>2}, CIFAR-10 Batch {}:  '.format(epoch + 1, batch_i), end='')\n",
    "            print_stats(sess, batch_features, batch_labels, cost, accuracy)\n",
    "            \n",
    "    # Save Model\n",
    "    saver = tf.train.Saver()\n",
    "    save_path = saver.save(sess, save_model_path)"
   ]
  },
  {
   "cell_type": "markdown",
   "metadata": {
    "deletable": true,
    "editable": true
   },
   "source": [
    "# Checkpoint\n",
    "The model has been saved to disk.\n",
    "## Test Model\n",
    "Test your model against the test dataset.  This will be your final accuracy. You should have an accuracy greater than 50%. If you don't, keep tweaking the model architecture and parameters."
   ]
  },
  {
   "cell_type": "code",
   "execution_count": 142,
   "metadata": {
    "collapsed": false,
    "deletable": true,
    "editable": true
   },
   "outputs": [
    {
     "name": "stdout",
     "output_type": "stream",
     "text": [
      "Testing Accuracy: 0.7659216772151899\n",
      "\n"
     ]
    },
    {
     "data": {
      "image/png": "[encoded data removed]",
      "text/plain": [
       "<matplotlib.figure.Figure at 0x7f89c9cdcf28>"
      ]
     },
     "metadata": {
      "image/png": {
       "height": 319,
       "width": 355
      }
     },
     "output_type": "display_data"
    }
   ],
   "source": [
    "\"\"\"\n",
    "DON'T MODIFY ANYTHING IN THIS CELL\n",
    "\"\"\"\n",
    "%matplotlib inline\n",
    "%config InlineBackend.figure_format = 'retina'\n",
    "\n",
    "import tensorflow as tf\n",
    "import pickle\n",
    "import helper\n",
    "import random\n",
    "\n",
    "# Set batch size if not already set\n",
    "try:\n",
    "    if batch_size:\n",
    "        pass\n",
    "except NameError:\n",
    "    batch_size = 64\n",
    "\n",
    "save_model_path = './image_classification'\n",
    "n_samples = 4\n",
    "top_n_predictions = 3\n",
    "\n",
    "def test_model():\n",
    "    \"\"\"\n",
    "    Test the saved model against the test dataset\n",
    "    \"\"\"\n",
    "\n",
    "    test_features, test_labels = pickle.load(open('preprocess_training.p', mode='rb'))\n",
    "    loaded_graph = tf.Graph()\n",
    "\n",
    "    with tf.Session(graph=loaded_graph) as sess:\n",
    "        # Load model\n",
    "        loader = tf.train.import_meta_graph(save_model_path + '.meta')\n",
    "        loader.restore(sess, save_model_path)\n",
    "\n",
    "        # Get Tensors from loaded model\n",
    "        loaded_x = loaded_graph.get_tensor_by_name('x:0')\n",
    "        loaded_y = loaded_graph.get_tensor_by_name('y:0')\n",
    "        loaded_keep_prob = loaded_graph.get_tensor_by_name('keep_prob:0')\n",
    "        loaded_logits = loaded_graph.get_tensor_by_name('logits:0')\n",
    "        loaded_acc = loaded_graph.get_tensor_by_name('accuracy:0')\n",
    "        \n",
    "        # Get accuracy in batches for memory limitations\n",
    "        test_batch_acc_total = 0\n",
    "        test_batch_count = 0\n",
    "        \n",
    "        for train_feature_batch, train_label_batch in helper.batch_features_labels(test_features, test_labels, batch_size):\n",
    "            test_batch_acc_total += sess.run(\n",
    "                loaded_acc,\n",
    "                feed_dict={loaded_x: train_feature_batch, loaded_y: train_label_batch, loaded_keep_prob: 1.0})\n",
    "            test_batch_count += 1\n",
    "\n",
    "        print('Testing Accuracy: {}\\n'.format(test_batch_acc_total/test_batch_count))\n",
    "\n",
    "        # Print Random Samples\n",
    "        random_test_features, random_test_labels = tuple(zip(*random.sample(list(zip(test_features, test_labels)), n_samples)))\n",
    "        random_test_predictions = sess.run(\n",
    "            tf.nn.top_k(tf.nn.softmax(loaded_logits), top_n_predictions),\n",
    "            feed_dict={loaded_x: random_test_features, loaded_y: random_test_labels, loaded_keep_prob: 1.0})\n",
    "        helper.display_image_predictions(random_test_features, random_test_labels, random_test_predictions)\n",
    "\n",
    "\n",
    "test_model()"
   ]
  },
  {
   "cell_type": "markdown",
   "metadata": {
    "deletable": true,
    "editable": true
   },
   "source": [
    "## Why 50-80% Accuracy?\n",
    "You might be wondering why you can't get an accuracy any higher. First things first, 50% isn't bad for a simple CNN.  Pure guessing would get you 10% accuracy. However, you might notice people are getting scores [well above 80%](http://rodrigob.github.io/are_we_there_yet/build/classification_datasets_results.html#43494641522d3130).  That's because we haven't taught you all there is to know about neural networks. We still need to cover a few more techniques.\n",
    "## Submitting This Project\n",
    "When submitting this project, make sure to run all the cells before saving the notebook.  Save the notebook file as \"dlnd_image_classification.ipynb\" and save it as a HTML file under \"File\" -> \"Download as\".  Include the \"helper.py\" and \"problem_unittests.py\" files in your submission."
   ]
  },
  {
   "cell_type": "code",
   "execution_count": null,
   "metadata": {
    "collapsed": true
   },
   "outputs": [],
   "source": []
  }
 ],
 "metadata": {
  "kernelspec": {
   "display_name": "Python 3",
   "language": "python",
   "name": "python3"
  },
  "language_info": {
   "codemirror_mode": {
    "name": "ipython",
    "version": 3
   },
   "file_extension": ".py",
   "mimetype": "text/x-python",
   "name": "python",
   "nbconvert_exporter": "python",
   "pygments_lexer": "ipython3",
   "version": "3.5.2"
  },
  "widgets": {
   "state": {},
   "version": "1.1.2"
  }
 },
 "nbformat": 4,
 "nbformat_minor": 0
}
